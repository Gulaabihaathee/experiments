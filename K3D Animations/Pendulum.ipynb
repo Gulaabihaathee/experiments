{
 "cells": [
  {
   "cell_type": "code",
   "execution_count": 13,
   "metadata": {},
   "outputs": [
    {
     "data": {
      "application/vnd.jupyter.widget-view+json": {
       "model_id": "3f3401b328344b05be20542c6fd3ee4a",
       "version_major": 2,
       "version_minor": 0
      },
      "text/plain": [
       "Output()"
      ]
     },
     "metadata": {},
     "output_type": "display_data"
    }
   ],
   "source": [
    "import numpy as np\n",
    "import k3d\n",
    "from time import sleep\n",
    "\n",
    "PIVOT = k3d.points(np.array([0,1,0]), color=0x00ff00, point_size=0.1)\n",
    "BOB = k3d.points(np.array([0,-1,0]), color=0xffff00, point_size=0.15)\n",
    "BAR = k3d.line([PIVOT.positions, BOB.positions])\n",
    "plot = k3d.plot(grid_auto_fit=False, camera_auto_fit=False)\n",
    "\n",
    "plot += BAR + PIVOT + BOB\n",
    "plot.display()"
   ]
  },
  {
   "cell_type": "code",
   "execution_count": 14,
   "metadata": {},
   "outputs": [],
   "source": [
    "plot.camera = [-0.016539825927886675, 0.8853871568973049, 7.893747177089618, 0, 0, 0,\n",
    "               -0.0030940187400669674, 0.9984114082086026, -0.056259105991590265]\n",
    "g = 9.81\n",
    "dt = 0.01\n",
    "Angular_Velocity = 0.0\n",
    "Length = np.sqrt(np.sum(((BOB.positions - PIVOT.positions)**2)))\n",
    "Theta = np.arccos((Length-abs(BOB.positions[1]))/Length)\n",
    "\n",
    "for i in range(3000):\n",
    "    Acceleration = -g*np.sin(Theta)/Length\n",
    "    Theta += Angular_Velocity*dt\n",
    "    Bob = np.array([Length*np.sin(Theta), Length*(-np.cos(Theta)), 0.0], dtype=np.float32)\n",
    "    Angular_Velocity += Acceleration*dt\n",
    "    \n",
    "    BOB.positions = Bob\n",
    "    BAR.vertices = np.array([PIVOT.positions, Bob])\n",
    "\n",
    "    sleep(0.01)"
   ]
  },
  {
   "cell_type": "code",
   "execution_count": 8,
   "metadata": {},
   "outputs": [],
   "source": []
  },
  {
   "cell_type": "code",
   "execution_count": null,
   "metadata": {},
   "outputs": [],
   "source": []
  },
  {
   "cell_type": "code",
   "execution_count": null,
   "metadata": {},
   "outputs": [],
   "source": []
  }
 ],
 "metadata": {
  "kernelspec": {
   "display_name": "Python 3",
   "language": "python",
   "name": "python3"
  },
  "language_info": {
   "codemirror_mode": {
    "name": "ipython",
    "version": 3
   },
   "file_extension": ".py",
   "mimetype": "text/x-python",
   "name": "python",
   "nbconvert_exporter": "python",
   "pygments_lexer": "ipython3",
   "version": "3.6.5"
  }
 },
 "nbformat": 4,
 "nbformat_minor": 2
}
