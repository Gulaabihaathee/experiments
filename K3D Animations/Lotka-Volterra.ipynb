{
 "cells": [
  {
   "cell_type": "markdown",
   "metadata": {},
   "source": [
    "http://visual.icse.us.edu.pl/NPB/notebooks/Lotka_Volterra_with_SAGE.html"
   ]
  },
  {
   "cell_type": "code",
   "execution_count": 1,
   "metadata": {},
   "outputs": [],
   "source": [
    "import numpy as np\n",
    "import k3d\n",
    "from scipy.integrate import odeint"
   ]
  },
  {
   "cell_type": "code",
   "execution_count": 2,
   "metadata": {},
   "outputs": [
    {
     "data": {
      "application/vnd.jupyter.widget-view+json": {
       "model_id": "a9349c5f4eec4447a3ef88cd38527def",
       "version_major": 2,
       "version_minor": 0
      },
      "text/plain": [
       "Output()"
      ]
     },
     "metadata": {},
     "output_type": "display_data"
    }
   ],
   "source": [
    "def rhs(y0, t, a):\n",
    "    x, y = y0[0], y0[1]\n",
    "    return [x-x*y, a*(x*y-y)]\n",
    "\n",
    "\n",
    "a_ = 1.21\n",
    "x0_ = 2.0\n",
    "y0_ = 4.2\n",
    "\n",
    "T = np.arange(0, 9, 0.04).astype(np.float32)\n",
    "sol = np.float32(odeint(rhs, [x0_, y0_], T, args=(a_,)))\n",
    "\n",
    "limx = np.linspace(np.min(sol[:,0]), np.max(sol[:,0]), 20)\n",
    "limy = np.linspace(np.min(sol[:,1]), np.max(sol[:,1]), 20)\n",
    "vx, vy = np.meshgrid(limx, limy)\n",
    "vx, vy = np.ravel(vx), np.ravel(vy)\n",
    "vec = rhs([vx, vy], t=0.01, a=a_)\n",
    "origins = np.stack([vx, vy, np.zeros(np.shape(vx))]).T\n",
    "vectors = np.stack([vec[0], vec[1], np.zeros(np.shape(vec[0]))]).T / 80\n",
    "\n",
    "vfield = k3d.vectors(np.float32(origins), np.float32(vectors), head_size=0.5, color=0xff0000)\n",
    "\n",
    "plot = k3d.plot()\n",
    "curve_points = np.vstack([sol[:,0], sol[:,1], np.zeros(sol[:,0].shape, dtype=np.float32)]).T\n",
    "points = k3d.points(curve_points, point_size=0.05, color=0x00ff00)\n",
    "line = k3d.line(curve_points, shader='simple')\n",
    "points_in_time = k3d.points(np.vstack([sol[:,0], sol[:,1], T]).T, point_size=0.05)\n",
    "\n",
    "plot += points + line + vfield + points_in_time\n",
    "plot.display()"
   ]
  },
  {
   "cell_type": "code",
   "execution_count": null,
   "metadata": {},
   "outputs": [],
   "source": []
  }
 ],
 "metadata": {
  "kernelspec": {
   "display_name": "Python 3",
   "language": "python",
   "name": "python3"
  },
  "language_info": {
   "codemirror_mode": {
    "name": "ipython",
    "version": 3
   },
   "file_extension": ".py",
   "mimetype": "text/x-python",
   "name": "python",
   "nbconvert_exporter": "python",
   "pygments_lexer": "ipython3",
   "version": "3.6.6"
  }
 },
 "nbformat": 4,
 "nbformat_minor": 2
}
