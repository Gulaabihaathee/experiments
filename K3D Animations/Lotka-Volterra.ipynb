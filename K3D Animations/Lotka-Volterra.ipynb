{
 "cells": [
  {
   "cell_type": "markdown",
   "metadata": {},
   "source": [
    "http://visual.icse.us.edu.pl/NPB/notebooks/Lotka_Volterra_with_SAGE.html"
   ]
  },
  {
   "cell_type": "code",
   "execution_count": 144,
   "metadata": {},
   "outputs": [],
   "source": [
    "import numpy as np\n",
    "import k3d\n",
    "from scipy.integrate import odeint"
   ]
  },
  {
   "cell_type": "code",
   "execution_count": 145,
   "metadata": {},
   "outputs": [
    {
     "data": {
      "application/vnd.jupyter.widget-view+json": {
       "model_id": "84adaeffbed54a7fa847057623b4d989",
       "version_major": 2,
       "version_minor": 0
      },
      "text/plain": [
       "Output()"
      ]
     },
     "metadata": {},
     "output_type": "display_data"
    }
   ],
   "source": [
    "def rhs(y0, t, a):\n",
    "    x, y = y0[0], y0[1]\n",
    "    return [x-x*y, a*(x*y-y)]\n",
    "\n",
    "\n",
    "a_ = 1.21\n",
    "x0_ = 2.0\n",
    "y0_ = 4.2\n",
    "\n",
    "T = np.arange(0, 9, 0.04)\n",
    "sol = np.float32(odeint(rhs, [x0_, y0_], T, args=(a_,)))\n",
    "\n",
    "plot = k3d.plot()\n",
    "points_positions = np.vstack([sol[:,0], sol[:,1], np.zeros(sol[:,0].shape, dtype=np.float32)]).T\n",
    "points = k3d.points(points_positions, point_size=0.05, color=0x00ff00)\n",
    "line = k3d.line(points_positions, shader='simple')\n",
    "\n",
    "plot += points + line\n",
    "plot.display()"
   ]
  },
  {
   "cell_type": "code",
   "execution_count": null,
   "metadata": {},
   "outputs": [],
   "source": []
  },
  {
   "cell_type": "code",
   "execution_count": null,
   "metadata": {},
   "outputs": [],
   "source": []
  }
 ],
 "metadata": {
  "kernelspec": {
   "display_name": "Python 3",
   "language": "python",
   "name": "python3"
  },
  "language_info": {
   "codemirror_mode": {
    "name": "ipython",
    "version": 3
   },
   "file_extension": ".py",
   "mimetype": "text/x-python",
   "name": "python",
   "nbconvert_exporter": "python",
   "pygments_lexer": "ipython3",
   "version": "3.6.6"
  }
 },
 "nbformat": 4,
 "nbformat_minor": 2
}
