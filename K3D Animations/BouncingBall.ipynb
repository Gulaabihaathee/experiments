{
 "cells": [
  {
   "cell_type": "code",
   "execution_count": null,
   "metadata": {},
   "outputs": [
    {
     "data": {
      "application/vnd.jupyter.widget-view+json": {
       "model_id": "face7e936e70484eb46822d4a761568a",
       "version_major": 2,
       "version_minor": 0
      },
      "text/plain": [
       "Output()"
      ]
     },
     "metadata": {},
     "output_type": "display_data"
    }
   ],
   "source": [
    "import numpy as np\n",
    "import k3d\n",
    "from time import sleep\n",
    "from ratelimiter import RateLimiter\n",
    "\n",
    "ball = k3d.points([0.0, 0.0, 3.0], point_size=0.3, color=0xff00ff, shader='flat')\n",
    "\n",
    "x = np.array([-3,-3,3,3], dtype=np.float32)\n",
    "y = np.array([-3,3,-3,3], dtype=np.float32)\n",
    "z = np.array([0,0,0,0], dtype=np.float32)\n",
    "\n",
    "floor = k3d.mesh(vertices=np.array([x,y,z]).T, indices=[[0,1,2],[1,2,3]], color=0xeafa, wireframe=True)\n",
    "plot = k3d.plot(grid_auto_fit=False, camera_auto_fit=False)\n",
    "plot += ball + floor\n",
    "plot.display()"
   ]
  },
  {
   "cell_type": "code",
   "execution_count": null,
   "metadata": {},
   "outputs": [],
   "source": [
    "plot.camera = [6.1970967893595095, -8.436456915569822, 1.804971555440877, 0, 0, 0, -0.08371596753478357, 0.08125785016665799,\n",
    "               0.9931710822240101]\n",
    "plot.grid = (-3,-3,-3,3,3,3)\n",
    "g = -9.81\n",
    "dt = 0.01\n",
    "v0x, v0y, v0z = 0.0, 0.0, 0.0\n",
    "\n",
    "\n",
    "@RateLimiter(max_calls=1, period=1/30)\n",
    "def update(ball,dx):\n",
    "    ball.positions = ball.positions + dx \n",
    "\n",
    "for t in range(3000):\n",
    "    v0z += g*dt\n",
    "    update(ball,np.array([v0x, v0y, v0z], dtype=np.float32)*dt + 0.5*np.array([0,0,g], dtype=np.float32)*dt**2)\n",
    "    if ball.positions[2] <= floor.vertices[0][2]+ball.point_size:\n",
    "        v0z = -v0z"
   ]
  }
 ],
 "metadata": {
  "kernelspec": {
   "display_name": "Python 3",
   "language": "python",
   "name": "python3"
  },
  "language_info": {
   "codemirror_mode": {
    "name": "ipython",
    "version": 3
   },
   "file_extension": ".py",
   "mimetype": "text/x-python",
   "name": "python",
   "nbconvert_exporter": "python",
   "pygments_lexer": "ipython3",
   "version": "3.6.5"
  }
 },
 "nbformat": 4,
 "nbformat_minor": 2
}
