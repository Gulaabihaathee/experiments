{
 "cells": [
  {
   "cell_type": "markdown",
   "metadata": {},
   "source": [
    "https://docs.scipy.org/doc/scipy/reference/generated/scipy.integrate.odeint.html#scipy.integrate.odeint"
   ]
  },
  {
   "cell_type": "code",
   "execution_count": 141,
   "metadata": {},
   "outputs": [
    {
     "data": {
      "application/vnd.jupyter.widget-view+json": {
       "model_id": "a5c2a0082a1943bcb4cd2c6bccb89412",
       "version_major": 2,
       "version_minor": 0
      },
      "text/plain": [
       "Output()"
      ]
     },
     "metadata": {},
     "output_type": "display_data"
    }
   ],
   "source": [
    "import numpy as np\n",
    "import k3d\n",
    "from ratelimiter import RateLimiter\n",
    "from scipy.integrate import odeint\n",
    "\n",
    "def pend(y, t, b, c):\n",
    "    theta, omega = y\n",
    "    dydt = [omega, -b*omega - c*np.sin(theta)]\n",
    "    return dydt\n",
    "\n",
    "b = 0.25\n",
    "c = 5.0\n",
    "y0 = [np.pi - 0.1, 0.0]\n",
    "t = np.linspace(0, 30, 600)\n",
    "sol = np.float32(odeint(pend, y0, t, args=(b, c)))\n",
    "\n",
    "plot = k3d.plot(grid_auto_fit=False, camera_auto_fit=False, grid=(-4,-2,-2,0,2,1))\n",
    "point = k3d.points([0, np.sin(sol[0,0]), -np.cos(sol[0,0])], point_size=0.1)\n",
    "line = k3d.line([0, np.sin(sol[0,0]), 0])\n",
    "texture = k3d.texture(open('Grid_Pattern.jpg', 'br').read(), 'jpg', translation=[-1.5,0,-1.02])\n",
    "texture.model_matrix = texture.model_matrix * np.array([[3,3,1,1]], dtype=np.float32)\n",
    "plot += point + line +  texture\n",
    "plot.display()"
   ]
  },
  {
   "cell_type": "code",
   "execution_count": 142,
   "metadata": {},
   "outputs": [],
   "source": [
    "plot.camera = [-1.6592067371682246,-1.3324933300147228,3.8707220547375956,-2,0,-0.5,-0.42139176249748234,0.8381023080549331,0.3464296519241023]\n",
    "\n",
    "rate_limiter = RateLimiter(max_calls=1, period=1/30)\n",
    "\n",
    "for i in range(1, sol.shape[0]):\n",
    "    with rate_limiter:\n",
    "        point.positions = [0, np.sin(sol[i,0]), -np.cos(sol[i,0])]\n",
    "        translation = np.array([0.01,0,0])*np.array([np.arange(i)[::-1]]).T\n",
    "        line_values = np.float32(np.array([np.zeros(i), np.sin(sol[:i,0]), -np.ones(i)]).T - translation)\n",
    "        if i-300 < 0: bias = 0\n",
    "        else: bias = i-300\n",
    "        line.vertices = line_values[bias:]"
   ]
  },
  {
   "cell_type": "code",
   "execution_count": null,
   "metadata": {},
   "outputs": [],
   "source": []
  },
  {
   "cell_type": "code",
   "execution_count": null,
   "metadata": {},
   "outputs": [],
   "source": []
  }
 ],
 "metadata": {
  "kernelspec": {
   "display_name": "Python 3",
   "language": "python",
   "name": "python3"
  },
  "language_info": {
   "codemirror_mode": {
    "name": "ipython",
    "version": 3
   },
   "file_extension": ".py",
   "mimetype": "text/x-python",
   "name": "python",
   "nbconvert_exporter": "python",
   "pygments_lexer": "ipython3",
   "version": "3.6.6"
  }
 },
 "nbformat": 4,
 "nbformat_minor": 2
}
