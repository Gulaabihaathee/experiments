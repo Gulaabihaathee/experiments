{
 "cells": [
  {
   "cell_type": "markdown",
   "metadata": {},
   "source": [
    "https://docs.scipy.org/doc/scipy/reference/generated/scipy.integrate.odeint.html#scipy.integrate.odeint"
   ]
  },
  {
   "cell_type": "code",
   "execution_count": null,
   "metadata": {},
   "outputs": [],
   "source": [
    "import numpy as np\n",
    "import k3d\n",
    "from ratelimiter import RateLimiter\n",
    "from scipy.integrate import odeint\n",
    "\n",
    "def pend(y, t, b, c):\n",
    "    theta, omega = y\n",
    "    dydt = [omega, -b*omega - c*np.sin(theta)]\n",
    "    return dydt\n",
    "\n",
    "b = 0.25\n",
    "c = 5.0\n",
    "y0 = [np.pi - 0.1, 0.0]\n",
    "t = np.linspace(0, 25, 400)\n",
    "sol = odeint(pend, y0, t, args=(b, c))\n",
    "\n",
    "plot = k3d.plot(grid_auto_fit=False, camera_auto_fit=False,)\n",
    "point = k3d.points([0, np.sin(sol[0,0]), -np.cos(sol[0,0])], point_size=0.1)\n",
    "line = k3d.line([0, np.sin(sol[0,0]), 0])\n",
    "plot += point + line\n",
    "plot.display()"
   ]
  },
  {
   "cell_type": "code",
   "execution_count": null,
   "metadata": {},
   "outputs": [],
   "source": [
    "rate_limiter = RateLimiter(max_calls=1, period=1/30)\n",
    "\n",
    "for i in range(1, sol.shape[0]):\n",
    "    with rate_limiter:\n",
    "        point.positions = [0, np.sin(sol[i,0]), -np.cos(sol[i,0])]\n",
    "        line.vertices = np.float32( np.concatenate([line.vertices, np.array([0, np.sin(sol[i,0]), 0])]) \n",
    "                                    - np.tile(np.array([0.01,0,0]), np.int(line.vertices.shape[0]/3 + 1)))"
   ]
  },
  {
   "cell_type": "code",
   "execution_count": null,
   "metadata": {},
   "outputs": [],
   "source": [
    "line.color_map = k3d.basic_color_maps.Jet\n",
    "line.color_range = 0, max(sol[:,1])\n",
    "line.attribute = np.float32(abs(sol[:,1]))"
   ]
  },
  {
   "cell_type": "code",
   "execution_count": null,
   "metadata": {},
   "outputs": [],
   "source": []
  }
 ],
 "metadata": {
  "kernelspec": {
   "display_name": "Python 3",
   "language": "python",
   "name": "python3"
  },
  "language_info": {
   "codemirror_mode": {
    "name": "ipython",
    "version": 3
   },
   "file_extension": ".py",
   "mimetype": "text/x-python",
   "name": "python",
   "nbconvert_exporter": "python",
   "pygments_lexer": "ipython3",
   "version": "3.6.6"
  }
 },
 "nbformat": 4,
 "nbformat_minor": 2
}
