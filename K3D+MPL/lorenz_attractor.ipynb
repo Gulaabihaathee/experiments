{
 "cells": [
  {
   "cell_type": "markdown",
   "metadata": {},
   "source": [
    "https://matplotlib.org/examples/mplot3d/lorenz_attractor.html\n",
    "![LorenzAttractor](https://matplotlib.org/_images/lorenz_attractor.png)"
   ]
  },
  {
   "cell_type": "code",
   "execution_count": 4,
   "metadata": {},
   "outputs": [
    {
     "data": {
      "application/vnd.jupyter.widget-view+json": {
       "model_id": "ec517c7203834bfeb20f9a73369963a3",
       "version_major": 2,
       "version_minor": 0
      },
      "text/plain": [
       "Output()"
      ]
     },
     "metadata": {},
     "output_type": "display_data"
    }
   ],
   "source": [
    "import numpy as np\n",
    "import k3d\n",
    "\n",
    "\n",
    "plot = k3d.plot()\n",
    "plot.display()"
   ]
  },
  {
   "cell_type": "code",
   "execution_count": 5,
   "metadata": {},
   "outputs": [],
   "source": [
    "def lorenz(x, y, z, s=10, r=28, b=2.667):\n",
    "    x_dot = s*(y - x)\n",
    "    y_dot = r*x - y - x*z\n",
    "    z_dot = x*y - b*z\n",
    "    return x_dot, y_dot, z_dot\n",
    "\n",
    "\n",
    "dt = 0.01\n",
    "stepCnt = 10000\n",
    "\n",
    "# Need one more for the initial values\n",
    "xs = np.empty((stepCnt + 1,))\n",
    "ys = np.empty((stepCnt + 1,))\n",
    "zs = np.empty((stepCnt + 1,))\n",
    "\n",
    "# Setting initial values\n",
    "xs[0], ys[0], zs[0] = (0., 1., 1.05)\n",
    "\n",
    "# Stepping through \"time\".\n",
    "for i in range(stepCnt):\n",
    "    # Derivatives of the X, Y, Z state\n",
    "    x_dot, y_dot, z_dot = lorenz(xs[i], ys[i], zs[i])\n",
    "    xs[i + 1] = xs[i] + (x_dot * dt)\n",
    "    ys[i + 1] = ys[i] + (y_dot * dt)\n",
    "    zs[i + 1] = zs[i] + (z_dot * dt)\n",
    "    \n",
    "    \n",
    "line = k3d.line(np.ravel(np.array([xs,ys,zs], dtype=np.float32).T))\n",
    "\n",
    "plot += line"
   ]
  },
  {
   "cell_type": "code",
   "execution_count": null,
   "metadata": {},
   "outputs": [],
   "source": []
  }
 ],
 "metadata": {
  "kernelspec": {
   "display_name": "Python 3",
   "language": "python",
   "name": "python3"
  },
  "language_info": {
   "codemirror_mode": {
    "name": "ipython",
    "version": 3
   },
   "file_extension": ".py",
   "mimetype": "text/x-python",
   "name": "python",
   "nbconvert_exporter": "python",
   "pygments_lexer": "ipython3",
   "version": "3.6.6"
  }
 },
 "nbformat": 4,
 "nbformat_minor": 2
}
