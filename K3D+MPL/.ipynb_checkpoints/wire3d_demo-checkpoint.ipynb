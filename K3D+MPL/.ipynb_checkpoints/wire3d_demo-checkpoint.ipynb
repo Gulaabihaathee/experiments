{
 "cells": [
  {
   "cell_type": "markdown",
   "metadata": {},
   "source": [
    "## Wireframe plots\n",
    "Axes3D.plot_wireframe(X, Y, Z, *args, ***kwargs)\n",
    "\n",
    "https://matplotlib.org/mpl_toolkits/mplot3d/tutorial.html\n",
    "![wireframe](https://matplotlib.org/mpl_examples/mplot3d/wire3d_demo.png)"
   ]
  },
  {
   "cell_type": "code",
   "execution_count": 3,
   "metadata": {},
   "outputs": [
    {
     "data": {
      "application/vnd.jupyter.widget-view+json": {
       "model_id": "6f442835f3ab4681be19d1bc4096bfc8",
       "version_major": 2,
       "version_minor": 0
      },
      "text/plain": [
       "Output()"
      ]
     },
     "metadata": {},
     "output_type": "display_data"
    }
   ],
   "source": [
    "import numpy as np\n",
    "from mpl_toolkits.mplot3d.axes3d import get_test_data\n",
    "import k3d\n",
    "30\n",
    "plot = k3d.plot(camera_auto_fit=False, grid_auto_fit=False, grid=(-30,-30,-30,30,30,30))\n",
    "X, Y, Z = get_test_data(0.05)\n",
    "X, Y, Z = X.astype(np.float32), Y.astype(np.float32), Z.astype(np.float32)\n",
    "\n",
    "surface = k3d.surface(Z , wireframe=True, xmin=np.min(X), xmax=np.max(X), \n",
    "                      ymin=np.min(Y), ymax=np.max(Y), scaling = [1,1,0.3])\n",
    "plot += surface\n",
    "plot.display()"
   ]
  },
  {
   "cell_type": "code",
   "execution_count": 4,
   "metadata": {},
   "outputs": [],
   "source": [
    "plot.camera = [37.12471651211309,\n",
    " -58.853722048397586,\n",
    " 19.184433839440793,\n",
    " 0,\n",
    " 0,\n",
    " 0,\n",
    " -0.13853614188396204,\n",
    " 0.16310237754820806,\n",
    " 0.9768343522982941]"
   ]
  },
  {
   "cell_type": "code",
   "execution_count": 31,
   "metadata": {},
   "outputs": [],
   "source": []
  },
  {
   "cell_type": "code",
   "execution_count": null,
   "metadata": {},
   "outputs": [],
   "source": []
  }
 ],
 "metadata": {
  "kernelspec": {
   "display_name": "Python 3",
   "language": "python",
   "name": "python3"
  },
  "language_info": {
   "codemirror_mode": {
    "name": "ipython",
    "version": 3
   },
   "file_extension": ".py",
   "mimetype": "text/x-python",
   "name": "python",
   "nbconvert_exporter": "python",
   "pygments_lexer": "ipython3",
   "version": "3.6.6"
  }
 },
 "nbformat": 4,
 "nbformat_minor": 2
}
