{
 "cells": [
  {
   "cell_type": "code",
   "execution_count": 39,
   "metadata": {},
   "outputs": [
    {
     "data": {
      "application/vnd.jupyter.widget-view+json": {
       "model_id": "1f3fdc78f87e407e9191339ab340dc1c",
       "version_major": 2,
       "version_minor": 0
      },
      "text/plain": [
       "Output()"
      ]
     },
     "metadata": {},
     "output_type": "display_data"
    }
   ],
   "source": [
    "import numpy as np\n",
    "import k3d\n",
    "from matplotlib.tri import Triangulation\n",
    "\n",
    "def b2(a,d):\n",
    "    return (a-np.sqrt(  (1-a-d)**2+4*d) )*(1+a+d-np.sqrt((1-a-d)**2+4*d))/(2*a)\n",
    "def dm(a):\n",
    "    return -a + np.sqrt(a**2 + 4*a) - 1\n",
    "def bm(a):\n",
    "    \n",
    "    if type(a) == np.ndarray:\n",
    "        out = np.empty_like(a)\n",
    "        a_lt_1 = a[a>1]\n",
    "        a_gt_1 = a[a<=1]\n",
    "        out[a>1] = 1/a_lt_1\n",
    "        \n",
    "        out[a<=1] =  0.5*(a_gt_1 - np.sqrt((a_gt_1 - 1)**2) + 1)*(a_gt_1 - np.sqrt((a_gt_1 - 1)**2))/a_gt_1\n",
    "        return out\n",
    "    else:\n",
    "        if a>1:\n",
    "            return 1/a\n",
    "        else:\n",
    "            return 0.5*(a - np.sqrt((a - 1)**2) + 1)*(a - np.sqrt((a - 1)**2))/a     \n",
    "\n",
    "step = 0.04\n",
    "maxval = 1.0\n",
    "x = np.linspace(0.5,6,115)\n",
    "y = np.linspace(0.00,1.,35)\n",
    "X,Y = np.meshgrid(x,y)\n",
    "# transform them to cartesian system\n",
    "X,Y = X,Y*(np.sqrt(X**2+4*X)-(1.0+X))\n",
    "Z = b2(X,Y)\n",
    "\n",
    "tri = Triangulation(np.ravel(X), np.ravel(Y))\n",
    "\n",
    "plot = k3d.plot()\n",
    "mesh = k3d.mesh(np.stack([np.ravel(X), np.ravel(Y), np.ravel(Z)]).astype(np.float32).T, \n",
    "         np.uint32(tri.triangles), scaling=[1/6,1.25,1], color_map=k3d.basic_color_maps.Jet)\n",
    "\n",
    "mesh.attribute = mesh.vertices[:,2]\n",
    "mesh.color_range = [0,0.8]\n",
    "plot += mesh\n",
    "plot.display()"
   ]
  },
  {
   "cell_type": "code",
   "execution_count": 38,
   "metadata": {},
   "outputs": [],
   "source": []
  }
 ],
 "metadata": {
  "kernelspec": {
   "display_name": "Python 3",
   "language": "python",
   "name": "python3"
  },
  "language_info": {
   "codemirror_mode": {
    "name": "ipython",
    "version": 3
   },
   "file_extension": ".py",
   "mimetype": "text/x-python",
   "name": "python",
   "nbconvert_exporter": "python",
   "pygments_lexer": "ipython3",
   "version": "3.6.6"
  }
 },
 "nbformat": 4,
 "nbformat_minor": 2
}
