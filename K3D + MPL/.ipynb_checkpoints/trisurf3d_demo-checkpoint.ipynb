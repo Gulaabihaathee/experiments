{
 "cells": [
  {
   "cell_type": "markdown",
   "metadata": {},
   "source": [
    "![trisurf](https://matplotlib.org/mpl_examples/mplot3d/trisurf3d_demo.png)"
   ]
  },
  {
   "cell_type": "code",
   "execution_count": 33,
   "metadata": {},
   "outputs": [
    {
     "data": {
      "application/vnd.jupyter.widget-view+json": {
       "model_id": "23d896689e7e4eb08118a69d486570e8",
       "version_major": 2,
       "version_minor": 0
      },
      "text/plain": [
       "Output()"
      ]
     },
     "metadata": {},
     "output_type": "display_data"
    }
   ],
   "source": [
    "import numpy as np\n",
    "import k3d\n",
    "from matplotlib.tri import Triangulation \n",
    "\n",
    "\n",
    "n_radii = 8\n",
    "n_angles = 36\n",
    "\n",
    "radii = np.linspace(0.125, 1.0, n_radii)\n",
    "angles = np.linspace(0, 2*np.pi, n_angles, endpoint=False)\n",
    "\n",
    "angles = np.repeat(angles[..., np.newaxis], n_radii, axis=1)\n",
    "\n",
    "x = np.append(0, (radii*np.cos(angles)).flatten())\n",
    "y = np.append(0, (radii*np.sin(angles)).flatten())\n",
    "z = np.sin(-x*y)\n",
    "\n",
    "triangulation = Triangulation(x,y)\n",
    "\n",
    "mesh = k3d.mesh(vertices=np.transpose([x,y,z]).astype(np.float32), \n",
    "                indices=triangulation.triangles.astype(np.uint32))\n",
    "mesh_wireframe = k3d.mesh(vertices=np.transpose([x,y,z]).astype(np.float32), \n",
    "                indices=triangulation.triangles.astype(np.uint32), wireframe=True, color=0xffffff)\n",
    "\n",
    "plot = k3d.plot(grid_auto_fit=False, camera_auto_fit=False)\n",
    "\n",
    "plot += mesh + mesh_wireframe\n",
    "plot.display()"
   ]
  },
  {
   "cell_type": "code",
   "execution_count": null,
   "metadata": {},
   "outputs": [],
   "source": []
  }
 ],
 "metadata": {
  "kernelspec": {
   "display_name": "Python 3",
   "language": "python",
   "name": "python3"
  },
  "language_info": {
   "codemirror_mode": {
    "name": "ipython",
    "version": 3
   },
   "file_extension": ".py",
   "mimetype": "text/x-python",
   "name": "python",
   "nbconvert_exporter": "python",
   "pygments_lexer": "ipython3",
   "version": "3.6.6"
  }
 },
 "nbformat": 4,
 "nbformat_minor": 2
}
