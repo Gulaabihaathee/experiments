{
 "cells": [
  {
   "cell_type": "markdown",
   "metadata": {},
   "source": [
    "http://visual.icse.us.edu.pl/NPB/notebooks/Lotka_Volterra_with_SAGE.html"
   ]
  },
  {
   "cell_type": "code",
   "execution_count": 21,
   "metadata": {},
   "outputs": [],
   "source": [
    "import numpy as np\n",
    "import k3d\n",
    "from scipy.integrate import odeint"
   ]
  },
  {
   "cell_type": "code",
   "execution_count": 22,
   "metadata": {},
   "outputs": [
    {
     "data": {
      "application/vnd.jupyter.widget-view+json": {
       "model_id": "5613eff1578a4ba18449d3a32dc5c54a",
       "version_major": 2,
       "version_minor": 0
      },
      "text/plain": [
       "Output()"
      ]
     },
     "metadata": {},
     "output_type": "display_data"
    }
   ],
   "source": [
    "def rhs(y0, t, a):\n",
    "    x, y = y0[0], y0[1]\n",
    "    return [x-x*y, a*(x*y-y)]\n",
    "\n",
    "\n",
    "a_1 = 1.21\n",
    "x0_1, x0_2, x0_3 = 2.0, 1.2, 1.0\n",
    "y0_1, y0_2, y0_3 = 4.2, 3.7, 2.4\n",
    "\n",
    "T = np.arange(0, 9, 0.04).astype(np.float32)\n",
    "sol1 = np.float32(odeint(rhs, [x0_1, y0_1], T, args=(a_1,)))\n",
    "sol2 = np.float32(odeint(rhs, [x0_2, y0_2], T, args=(a_1,)))\n",
    "sol3 = np.float32(odeint(rhs, [x0_3, y0_3], T, args=(a_1,)))\n",
    "\n",
    "\n",
    "limx = np.linspace(np.min(sol1[:,0]), np.max(sol1[:,0]), 20)\n",
    "limy = np.linspace(np.min(sol1[:,1]), np.max(sol1[:,1]), 20)\n",
    "vx, vy = np.meshgrid(limx, limy)\n",
    "vx, vy = np.ravel(vx), np.ravel(vy)\n",
    "vec = rhs([vx, vy], t=0.01, a=a_1)\n",
    "origins = np.stack([np.zeros(np.shape(vx)), vx, vy]).T\n",
    "vectors = np.stack([np.zeros(np.shape(vec[0])), vec[0], vec[1]]).T\n",
    "vectors /= np.stack([np.linalg.norm(vectors, axis=1)]).T * 6\n",
    "\n",
    "vfield = k3d.vectors(np.float32(origins), np.float32(vectors), head_size=0.5, color=0xff0000,)\n",
    "\n",
    "plot = k3d.plot()\n",
    "\n",
    "curve_points1 = np.vstack([np.zeros(sol1[:,0].shape, dtype=np.float32), sol1[:,0], sol1[:,1]]).T\n",
    "points1 = k3d.points(curve_points1, point_size=0.05, color=0x00ff00)\n",
    "line1 = k3d.line(curve_points1, shader='simple', color=0x00ff00)\n",
    "line_in_time1 = k3d.line(np.vstack([T, sol1[:,0], sol1[:,1]]).T, shader='mesh', color=0x00ff00)\n",
    "\n",
    "curve_points2 = np.vstack([np.zeros(sol2[:,0].shape, dtype=np.float32), sol2[:,0], sol2[:,1]]).T\n",
    "points2 = k3d.points(curve_points2, point_size=0.05, color=0xffff00)\n",
    "line2 = k3d.line(curve_points2, shader='simple', color=0xffff00)\n",
    "line_in_time2 = k3d.line(np.vstack([T, sol2[:,0], sol2[:,1]]).T, shader='mesh', color=0xffff00)\n",
    "\n",
    "curve_points3 = np.vstack([np.zeros(sol3[:,0].shape, dtype=np.float32), sol3[:,0], sol3[:,1]]).T\n",
    "points3 = k3d.points(curve_points3, point_size=0.05, color=0x00ffff)\n",
    "line3 = k3d.line(curve_points3, shader='simple', color=0x00ffff)\n",
    "line_in_time3 = k3d.line(np.vstack([T, sol3[:,0], sol3[:,1]]).T, shader='mesh', color=0x00ffff)\n",
    "\n",
    "\n",
    "plot += points1 + line1 + vfield + line_in_time1 + points2 + line2 + line_in_time2 + points3 + line3 + line_in_time3\n",
    "plot.display()"
   ]
  },
  {
   "cell_type": "code",
   "execution_count": null,
   "metadata": {},
   "outputs": [],
   "source": []
  },
  {
   "cell_type": "code",
   "execution_count": null,
   "metadata": {},
   "outputs": [],
   "source": []
  },
  {
   "cell_type": "code",
   "execution_count": null,
   "metadata": {},
   "outputs": [],
   "source": []
  }
 ],
 "metadata": {
  "kernelspec": {
   "display_name": "Python 3",
   "language": "python",
   "name": "python3"
  },
  "language_info": {
   "codemirror_mode": {
    "name": "ipython",
    "version": 3
   },
   "file_extension": ".py",
   "mimetype": "text/x-python",
   "name": "python",
   "nbconvert_exporter": "python",
   "pygments_lexer": "ipython3",
   "version": "3.6.6"
  }
 },
 "nbformat": 4,
 "nbformat_minor": 2
}
