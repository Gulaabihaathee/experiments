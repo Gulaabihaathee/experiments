{
 "cells": [
  {
   "cell_type": "code",
   "execution_count": 48,
   "metadata": {},
   "outputs": [],
   "source": [
    "import numpy as np\n",
    "import k3d\n",
    "from ratelimiter import RateLimiter"
   ]
  },
  {
   "cell_type": "code",
   "execution_count": 50,
   "metadata": {},
   "outputs": [
    {
     "data": {
      "application/vnd.jupyter.widget-view+json": {
       "model_id": "f40ad94f0ca8441b9409de509c692b5d",
       "version_major": 2,
       "version_minor": 0
      },
      "text/plain": [
       "Output()"
      ]
     },
     "metadata": {},
     "output_type": "display_data"
    }
   ],
   "source": [
    "x = np.linspace(-1, 1, 100, dtype=np.float32)\n",
    "y = np.linspace(-1, 1, 100, dtype=np.float32)\n",
    "z = np.linspace(-1, 1, 100, dtype=np.float32)\n",
    "\n",
    "x, y, z = np.meshgrid(x, y, z)\n",
    "F = 0.2*x**2 + y**2 + 0.2*z**2\n",
    "\n",
    "plot = k3d.plot(grid_auto_fit=False, camera_auto_fit=True)\n",
    "blob = k3d.marching_cubes(F, level=0.1)\n",
    "plot += blob\n",
    "plot.display()"
   ]
  },
  {
   "cell_type": "code",
   "execution_count": 51,
   "metadata": {},
   "outputs": [],
   "source": [
    "model_matrix = [\n",
    "    1.0, 0.0, 0.0, 0.0,\n",
    "    0.0, -1.0, 0.0, 0.0,\n",
    "    0.0, 0.0, 1.0, 0.0,\n",
    "    0.0, 0.0, 0.0, 1.0\n",
    "]\n",
    "\n",
    "pic = open(r'/home/filip/Pobrane/m&m.png','br').read()\n",
    "texture = k3d.texture(pic, 'png', model_matrix=model_matrix)\n",
    "plot += texture"
   ]
  },
  {
   "cell_type": "code",
   "execution_count": null,
   "metadata": {},
   "outputs": [],
   "source": []
  },
  {
   "cell_type": "code",
   "execution_count": null,
   "metadata": {},
   "outputs": [],
   "source": []
  }
 ],
 "metadata": {
  "kernelspec": {
   "display_name": "Python 3",
   "language": "python",
   "name": "python3"
  },
  "language_info": {
   "codemirror_mode": {
    "name": "ipython",
    "version": 3
   },
   "file_extension": ".py",
   "mimetype": "text/x-python",
   "name": "python",
   "nbconvert_exporter": "python",
   "pygments_lexer": "ipython3",
   "version": "3.6.6"
  }
 },
 "nbformat": 4,
 "nbformat_minor": 2
}
