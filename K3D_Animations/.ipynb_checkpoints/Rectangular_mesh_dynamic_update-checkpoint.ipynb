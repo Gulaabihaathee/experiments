{
 "cells": [
  {
   "cell_type": "code",
   "execution_count": 1,
   "metadata": {},
   "outputs": [],
   "source": [
    "import numpy as np\n",
    "import k3d\n",
    "from itertools import product\n",
    "from matplotlib.tri import Triangulation\n",
    "from time import sleep"
   ]
  },
  {
   "cell_type": "code",
   "execution_count": 2,
   "metadata": {},
   "outputs": [],
   "source": [
    "ls = np.linspace(-15, 15, 80)\n",
    "a = np.array(list(product(ls, ls))).astype(np.float32)\n",
    "x = a[:,0]\n",
    "y = a[:,1]\n",
    "z = np.sin(x*x + y*y)\n",
    "T = Triangulation(x,y)"
   ]
  },
  {
   "cell_type": "code",
   "execution_count": 3,
   "metadata": {},
   "outputs": [
    {
     "data": {
      "application/vnd.jupyter.widget-view+json": {
       "model_id": "98349ff0e4bc48c7af90968fe3703c4d",
       "version_major": 2,
       "version_minor": 0
      },
      "text/plain": [
       "Output()"
      ]
     },
     "metadata": {},
     "output_type": "display_data"
    }
   ],
   "source": [
    "plot = k3d.plot()\n",
    "plot.display()"
   ]
  },
  {
   "cell_type": "code",
   "execution_count": 4,
   "metadata": {},
   "outputs": [],
   "source": [
    "mesh = k3d.mesh(np.transpose([x,y,z]).astype(np.float32), np.uint32(T.triangles),\n",
    "                color_map=k3d.colormaps.matplotlib_color_maps.Gist_rainbow)\n",
    "mesh.attribute = mesh.vertices[0: ,2]\n",
    "plot += mesh"
   ]
  },
  {
   "cell_type": "code",
   "execution_count": 5,
   "metadata": {},
   "outputs": [],
   "source": [
    "plot.grid_auto_fit = False\n",
    "plot.camera_auto_fit = False\n",
    "\n",
    "for i in range(600):\n",
    "    phase = i/7\n",
    "    z = np.sin(phase)*np.sin(x**2 + y**2 + phase)\n",
    "    mesh.vertices = np.transpose([x,y,z])\n",
    "    upper_lim = .7 + np.abs(0.7 + np.sin(i*0.01))\n",
    "    mesh.color_range = [-.7, upper_lim]\n",
    "    sleep(0.08)"
   ]
  },
  {
   "cell_type": "code",
   "execution_count": null,
   "metadata": {},
   "outputs": [],
   "source": []
  },
  {
   "cell_type": "code",
   "execution_count": null,
   "metadata": {},
   "outputs": [],
   "source": []
  }
 ],
 "metadata": {
  "kernelspec": {
   "display_name": "Python 3",
   "language": "python",
   "name": "python3"
  },
  "language_info": {
   "codemirror_mode": {
    "name": "ipython",
    "version": 3
   },
   "file_extension": ".py",
   "mimetype": "text/x-python",
   "name": "python",
   "nbconvert_exporter": "python",
   "pygments_lexer": "ipython3",
   "version": "3.6.6"
  }
 },
 "nbformat": 4,
 "nbformat_minor": 2
}
