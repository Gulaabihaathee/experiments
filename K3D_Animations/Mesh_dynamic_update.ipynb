{
 "cells": [
  {
   "cell_type": "code",
   "execution_count": 1,
   "metadata": {},
   "outputs": [],
   "source": [
    "import numpy as np\n",
    "import k3d\n",
    "from matplotlib.tri import Triangulation\n",
    "from ipywidgets import interact, FloatSlider\n",
    "from time import sleep"
   ]
  },
  {
   "cell_type": "code",
   "execution_count": 2,
   "metadata": {},
   "outputs": [],
   "source": [
    "n_radii = 32\n",
    "n_angles = 64\n",
    "phase = 0.0\n",
    "amplitude = 1.0\n",
    "radii = np.linspace(-0.1, 10.0, n_radii)\n",
    "angles = np.linspace(0, 2*np.pi, n_angles, endpoint=False)\n",
    "angles = np.repeat(angles[..., np.newaxis], n_radii, axis=1)\n",
    "\n",
    "x = np.append(0, (radii*np.cos(angles)).flatten())\n",
    "y = np.append(0, (radii*np.sin(angles)).flatten())\n",
    "z = np.sin(x**2 + y**2 + phase).astype(np.float32)\n",
    "\n",
    "triang = Triangulation(x, y)"
   ]
  },
  {
   "cell_type": "code",
   "execution_count": 3,
   "metadata": {},
   "outputs": [
    {
     "data": {
      "application/vnd.jupyter.widget-view+json": {
       "model_id": "f375726039464ad0a45deaea82501a34",
       "version_major": 2,
       "version_minor": 0
      },
      "text/plain": [
       "Output()"
      ]
     },
     "metadata": {},
     "output_type": "display_data"
    },
    {
     "data": {
      "application/vnd.jupyter.widget-view+json": {
       "model_id": "939135b49cd043b8ac44d4db34c48b55",
       "version_major": 2,
       "version_minor": 0
      },
      "text/plain": [
       "interactive(children=(FloatSlider(value=0.0, description='phase', max=6.283185307179586), FloatSlider(value=1.…"
      ]
     },
     "metadata": {},
     "output_type": "display_data"
    }
   ],
   "source": [
    "mesh = k3d.mesh(np.stack([x,y,z]).T.astype(np.float32), triang.triangles.astype(np.uint32),\n",
    "                color_map = k3d.colormaps.matplotlib_color_maps.Gist_rainbow)\n",
    "mesh.attribute = mesh.vertices[:,2]\n",
    "\n",
    "plot = k3d.plot()\n",
    "plot += mesh\n",
    "plot.display()\n",
    "\n",
    "@interact(phase=FloatSlider(value=phase, min=0, max=2*np.pi),\n",
    "          amplitude=FloatSlider(value=amplitude, min=0, max=2*np.pi))\n",
    "def update(phase, amplitude):\n",
    "    formula=np.sin(x**2 + y**2 + phase)\n",
    "    z = amplitude*formula.astype(np.float32)\n",
    "    mesh.vertices = np.transpose([x,y,z]).astype(np.float32)"
   ]
  },
  {
   "cell_type": "code",
   "execution_count": 4,
   "metadata": {},
   "outputs": [],
   "source": [
    "plot.camera_auto_fit = False\n",
    "plot.grid_auto_fit = False\n",
    "plot.background_color = 0\n",
    "plot.camera = [-8.0, 1.0, -17.0, -1.0, 0.0, -1.0, 0.0, -1.0, -1.0]"
   ]
  },
  {
   "cell_type": "code",
   "execution_count": 7,
   "metadata": {},
   "outputs": [],
   "source": [
    "for i in range(2*600):\n",
    "    phase = i/7\n",
    "    formula = np.sin(x*y + phase)\n",
    "    z = amplitude*formula.astype(np.float32)\n",
    "    mesh.vertices = np.transpose([x,y,z]).astype(np.float32)\n",
    "    upper_lim = .7 + np.abs(0.2 + np.sin(i*0.01))\n",
    "    mesh.color_range = [-.7, upper_lim]\n",
    "    sleep(0.1)"
   ]
  },
  {
   "cell_type": "code",
   "execution_count": null,
   "metadata": {},
   "outputs": [],
   "source": []
  }
 ],
 "metadata": {
  "kernelspec": {
   "display_name": "Python 3",
   "language": "python",
   "name": "python3"
  },
  "language_info": {
   "codemirror_mode": {
    "name": "ipython",
    "version": 3
   },
   "file_extension": ".py",
   "mimetype": "text/x-python",
   "name": "python",
   "nbconvert_exporter": "python",
   "pygments_lexer": "ipython3",
   "version": "3.6.6"
  }
 },
 "nbformat": 4,
 "nbformat_minor": 2
}
