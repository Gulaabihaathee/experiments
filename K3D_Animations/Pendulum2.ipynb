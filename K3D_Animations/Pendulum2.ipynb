{
 "cells": [
  {
   "cell_type": "markdown",
   "metadata": {},
   "source": [
    "https://docs.scipy.org/doc/scipy/reference/generated/scipy.integrate.odeint.html#scipy.integrate.odeint"
   ]
  },
  {
   "cell_type": "code",
   "execution_count": 1,
   "metadata": {},
   "outputs": [
    {
     "data": {
      "application/vnd.jupyter.widget-view+json": {
       "model_id": "fad4cd0823804668ae86b1f7727e50b5",
       "version_major": 2,
       "version_minor": 0
      },
      "text/plain": [
       "Output()"
      ]
     },
     "metadata": {},
     "output_type": "display_data"
    }
   ],
   "source": [
    "import numpy as np\n",
    "import k3d\n",
    "from ratelimiter import RateLimiter\n",
    "from scipy.integrate import odeint\n",
    "from itertools import product\n",
    "from k3d.platonic import Cube\n",
    "\n",
    "def pend(y, t, b, c):\n",
    "    theta, omega = y\n",
    "    dydt = [omega, -b*omega - c*np.sin(theta)]\n",
    "    return dydt\n",
    "\n",
    "b = 0.25\n",
    "c = 5.0\n",
    "y0 = [np.pi - 0.1, 0.0]\n",
    "t = np.linspace(0, 30, 600)\n",
    "sol = np.float32(odeint(pend, y0, t, args=(b, c)))\n",
    "x, y = np.cos(sol[:,0]), np.sin(sol[:,0])\n",
    "line_values = np.float32(np.stack([np.arange(sol.shape[0])/100, y, -np.ones(sol.shape[0])]).T)\n",
    "diffs = np.float32(np.diff(np.stack([np.zeros(sol.shape[0]), y, -x]).T, axis=0))\n",
    "diffs = diffs / np.stack([np.linalg.norm(diffs, axis=1)]).T\n",
    "diffs *= np.abs(np.stack([sol[:-1,1]]).T)/2\n",
    "\n",
    "plot = k3d.plot(grid_auto_fit=False, camera_auto_fit=False, grid=(-4,-2,-2,0,2,1))\n",
    "point = k3d.points([0, y[0], -x[0]], point_size=0.1)\n",
    "line = k3d.line([0, y[0], 0])\n",
    "mesh = k3d.mesh([[-3,1,-1.02], [-3,-1,-1.02], [0,1,-1.02],[0,-1,-1.02]], [[0,1,3],[0,2,3]], color=0xffffff)\n",
    "cube = Cube([0,0,0], 0.05)[1]\n",
    "twine = k3d.line(vertices=[[0,0,0], point.positions], shader='simple')\n",
    "velocity_vector = k3d.vectors(origins=point.positions, vectors=diffs[0], head_color=0xff0000, head_size=0.1)\n",
    "\n",
    "plot += point + line +  mesh + cube + twine + velocity_vector\n",
    "plot.display()"
   ]
  },
  {
   "cell_type": "code",
   "execution_count": null,
   "metadata": {},
   "outputs": [],
   "source": [
    "plot.camera = [2.973645060709364,-6.337929918481148,4.729101180748271,-2,0,-0.5,-0.28493277300160497,0.4080724365995052,0.8673466442878298]\n",
    "rate_limiter = RateLimiter(max_calls=1, period=1/30)\n",
    "\n",
    "for i in range(1, sol.shape[0]):\n",
    "    with rate_limiter:\n",
    "        point.positions = [0, y[i], -x[i]]\n",
    "        twine.vertices = [[0,0,0], point.positions]\n",
    "        velocity_vector.origins = point.positions\n",
    "        velocity_vector.vectors = diffs[i-1]\n",
    "            \n",
    "        if i-300 < 0: \n",
    "            bias = 0\n",
    "        else: \n",
    "            bias = i-300\n",
    "        \n",
    "        line.vertices = line_values[bias:i] - i*np.array([0.01, 0, 0], dtype=np.float32)"
   ]
  },
  {
   "cell_type": "code",
   "execution_count": null,
   "metadata": {},
   "outputs": [],
   "source": []
  },
  {
   "cell_type": "code",
   "execution_count": null,
   "metadata": {},
   "outputs": [],
   "source": []
  }
 ],
 "metadata": {
  "kernelspec": {
   "display_name": "Python 3",
   "language": "python",
   "name": "python3"
  },
  "language_info": {
   "codemirror_mode": {
    "name": "ipython",
    "version": 3
   },
   "file_extension": ".py",
   "mimetype": "text/x-python",
   "name": "python",
   "nbconvert_exporter": "python",
   "pygments_lexer": "ipython3",
   "version": "3.6.6"
  }
 },
 "nbformat": 4,
 "nbformat_minor": 2
}
