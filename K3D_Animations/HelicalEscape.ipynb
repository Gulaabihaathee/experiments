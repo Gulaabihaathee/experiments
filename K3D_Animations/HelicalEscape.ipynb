{
 "cells": [
  {
   "cell_type": "code",
   "execution_count": 15,
   "metadata": {},
   "outputs": [],
   "source": [
    "import numpy as np\n",
    "import k3d\n",
    "from time import sleep"
   ]
  },
  {
   "cell_type": "code",
   "execution_count": 16,
   "metadata": {},
   "outputs": [
    {
     "data": {
      "application/vnd.jupyter.widget-view+json": {
       "model_id": "a10e221499084d61bcfb3af3fe73e8cb",
       "version_major": 2,
       "version_minor": 0
      },
      "text/plain": [
       "Output()"
      ]
     },
     "metadata": {},
     "output_type": "display_data"
    }
   ],
   "source": [
    "plot = k3d.plot(camera_auto_fit=False, grid_auto_fit=False)\n",
    "plot.display()"
   ]
  },
  {
   "cell_type": "code",
   "execution_count": 17,
   "metadata": {},
   "outputs": [],
   "source": [
    "point1, point2 = k3d.points([0,0,0], point_size=0.1, color=0x00ff00), k3d.points([1,0,0], point_size=0.1, color=0xff00ff) \n",
    "plot += point1 + point2"
   ]
  },
  {
   "cell_type": "code",
   "execution_count": 18,
   "metadata": {},
   "outputs": [],
   "source": [
    "# Unit Vectors pointing to other point\n",
    "vector1 = k3d.vectors(origins=point2.positions, vectors=(point1.positions-point2.positions)/np.linalg.norm(point1.positions-point2.positions))\n",
    "vector2 = k3d.vectors(origins=point1.positions, vectors=(point2.positions-point1.positions)/np.linalg.norm(point2.positions-point1.positions))\n",
    "plot += vector1 + vector2"
   ]
  },
  {
   "cell_type": "code",
   "execution_count": 19,
   "metadata": {},
   "outputs": [],
   "source": [
    "def update_vectors():\n",
    "    vector1.origins=point2.positions\n",
    "    vector1.vectors=(point1.positions-point2.positions)/np.linalg.norm(point1.positions-point2.positions)\n",
    "    vector2.origins=point1.positions\n",
    "    vector2.vectors=(point2.positions-point1.positions)/np.linalg.norm(point2.positions-point1.positions)"
   ]
  },
  {
   "cell_type": "code",
   "execution_count": 20,
   "metadata": {},
   "outputs": [],
   "source": [
    "pos0 = point1.positions.copy() \n",
    "line_container = []\n",
    "\n",
    "for t in range(360):\n",
    "    line_container.append(point1.positions.copy())\n",
    "    point1.positions = [pos0[0]+point1.positions[0]-0.01, pos0[1]+np.sin(t*np.pi/180), pos0[2]+np.cos(t*np.pi/180) - 1]\n",
    "    update_vectors()\n",
    "    sleep(0.01)"
   ]
  },
  {
   "cell_type": "code",
   "execution_count": 21,
   "metadata": {},
   "outputs": [],
   "source": [
    "line = k3d.line(line_container)\n",
    "plot += line"
   ]
  },
  {
   "cell_type": "code",
   "execution_count": null,
   "metadata": {},
   "outputs": [],
   "source": []
  },
  {
   "cell_type": "code",
   "execution_count": null,
   "metadata": {},
   "outputs": [],
   "source": []
  }
 ],
 "metadata": {
  "kernelspec": {
   "display_name": "Python 3",
   "language": "python",
   "name": "python3"
  },
  "language_info": {
   "codemirror_mode": {
    "name": "ipython",
    "version": 3
   },
   "file_extension": ".py",
   "mimetype": "text/x-python",
   "name": "python",
   "nbconvert_exporter": "python",
   "pygments_lexer": "ipython3",
   "version": "3.6.6"
  }
 },
 "nbformat": 4,
 "nbformat_minor": 2
}
