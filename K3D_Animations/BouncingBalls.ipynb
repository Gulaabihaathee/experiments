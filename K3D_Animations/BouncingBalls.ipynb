{
 "cells": [
  {
   "cell_type": "code",
   "execution_count": 20,
   "metadata": {},
   "outputs": [],
   "source": [
    "import numpy as np\n",
    "import k3d\n",
    "from k3d.platonic import Cube\n",
    "from ratelimiter import RateLimiter"
   ]
  },
  {
   "cell_type": "code",
   "execution_count": 21,
   "metadata": {},
   "outputs": [],
   "source": [
    "plot = k3d.plot(camera_auto_fit=False, grid_auto_fit=False, grid=(-5,-5,-5,5,5,5))\n",
    "\n",
    "cube = Cube(origin=[0,0,0], size=5).mesh\n",
    "cube.wireframe = True\n",
    "plot += cube"
   ]
  },
  {
   "cell_type": "code",
   "execution_count": 22,
   "metadata": {},
   "outputs": [],
   "source": [
    "class Ball:\n",
    "    def __init__(self, position=[0,0,0], velocity=[0,0,0], random=False):\n",
    "        self.position = np.array(position, dtype=np.float32)\n",
    "        self.velocity = np.array(velocity, dtype=np.float32)\n",
    "        \n",
    "        if random:\n",
    "            a, b = -3, 4\n",
    "            self.position = ((b - a) * np.random.random(size=(3)) + a).astype(np.float32)\n",
    "            self.velocity = np.random.uniform(-4, 4, size=(3)).astype(np.float32)"
   ]
  },
  {
   "cell_type": "code",
   "execution_count": 23,
   "metadata": {},
   "outputs": [],
   "source": [
    "n = 50\n",
    "ball_scenes = []\n",
    "\n",
    "balls = [Ball(random=True) for i in range(n)]\n",
    "balls_position = np.array([ball.position for ball in balls])\n",
    "balls_velocity = np.array([ball.velocity for ball in balls])\n",
    "\n",
    "k3dballs = k3d.points(balls_position, point_size=0.3, shader='simple', color=0)\n",
    "plot += k3dballs"
   ]
  },
  {
   "cell_type": "code",
   "execution_count": 24,
   "metadata": {},
   "outputs": [],
   "source": [
    "g = np.array([0, 0, -9.81], dtype=np.float32)\n",
    "time_steps, dt = 1200, 0.01\n",
    "\n",
    "# simulation\n",
    "for t in range(1, time_steps):\n",
    "        balls_position = balls_position + balls_velocity*dt + 0.5*g*dt**2\n",
    "        ball_scenes.append(balls_position.copy())\n",
    "        balls_velocity = balls_velocity + g*dt  \n",
    "\n",
    "        balls_velocity[balls_position[:,2] - (-4) < 0.3] *= np.array([1, 1, -1])\n",
    "        balls_velocity[balls_position[:,2] - (4) > 0.3] *= np.array([1, 1, -1])\n",
    "            \n",
    "        balls_velocity[balls_position[:,1] - (-4) < 0.3] *= np.array([1, -1, 1])\n",
    "        balls_velocity[balls_position[:,1] - (4) > 0.3] *= np.array([1, -1, 1])\n",
    "\n",
    "        balls_velocity[balls_position[:,0] - (-4) < 0.3] *= np.array([-1, 1, 1])\n",
    "        balls_velocity[balls_position[:,0] - (4) > 0.3] *= np.array([-1, 1, 1])\n",
    "        \n",
    "ball_scenes = np.array(ball_scenes)"
   ]
  },
  {
   "cell_type": "code",
   "execution_count": 25,
   "metadata": {},
   "outputs": [
    {
     "data": {
      "application/vnd.jupyter.widget-view+json": {
       "model_id": "4089e7e2d90d4d95ad8d9c2a9cc186f7",
       "version_major": 2,
       "version_minor": 0
      },
      "text/plain": [
       "Output()"
      ]
     },
     "metadata": {},
     "output_type": "display_data"
    }
   ],
   "source": [
    "plot.display()"
   ]
  },
  {
   "cell_type": "code",
   "execution_count": 26,
   "metadata": {},
   "outputs": [],
   "source": [
    "rate_limiter = RateLimiter(max_calls=1, period=1/20)\n",
    "\n",
    "# visualisation\n",
    "for t in range(time_steps-1):\n",
    "    with rate_limiter:\n",
    "        k3dballs.positions = ball_scenes[t]"
   ]
  },
  {
   "cell_type": "code",
   "execution_count": 17,
   "metadata": {},
   "outputs": [],
   "source": []
  },
  {
   "cell_type": "code",
   "execution_count": null,
   "metadata": {},
   "outputs": [],
   "source": []
  }
 ],
 "metadata": {
  "kernelspec": {
   "display_name": "Python 3",
   "language": "python",
   "name": "python3"
  },
  "language_info": {
   "codemirror_mode": {
    "name": "ipython",
    "version": 3
   },
   "file_extension": ".py",
   "mimetype": "text/x-python",
   "name": "python",
   "nbconvert_exporter": "python",
   "pygments_lexer": "ipython3",
   "version": "3.6.6"
  }
 },
 "nbformat": 4,
 "nbformat_minor": 2
}
