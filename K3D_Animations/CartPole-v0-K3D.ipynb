{
 "cells": [
  {
   "cell_type": "code",
   "execution_count": 1,
   "metadata": {
    "scrolled": false
   },
   "outputs": [
    {
     "name": "stdout",
     "output_type": "stream",
     "text": [
      "\u001b[33mWARN: gym.spaces.Box autodetected dtype as <class 'numpy.float32'>. Please provide explicit dtype.\u001b[0m\n",
      "\u001b[33mWARN: You are calling 'step()' even though this environment has already returned done = True. You should always call 'reset()' once you receive 'done = True' -- any further steps are undefined behavior.\u001b[0m\n"
     ]
    }
   ],
   "source": [
    "import numpy as np\n",
    "import gym\n",
    "import k3d\n",
    "from ratelimiter import RateLimiter\n",
    "from k3d.platonic import Cube\n",
    "\n",
    "\n",
    "env = gym.make('CartPole-v0')\n",
    "observation = env.reset()\n",
    "O = []\n",
    "\n",
    "for t in range(500):\n",
    "    #env.render()\n",
    "    O.append(observation)\n",
    "    action = env.action_space.sample()\n",
    "    observation, reward, done, info = env.step(action)\n",
    "    if observation[0] > 5.0 or observation[0] < -5.0:\n",
    "        break"
   ]
  },
  {
   "cell_type": "code",
   "execution_count": 2,
   "metadata": {},
   "outputs": [],
   "source": [
    "O = np.array(O)"
   ]
  },
  {
   "cell_type": "code",
   "execution_count": 3,
   "metadata": {
    "scrolled": true
   },
   "outputs": [],
   "source": [
    "plot = k3d.plot(grid_auto_fit=False, camera_auto_fit=False, grid=(-5,-3,-3,5,3,3))"
   ]
  },
  {
   "cell_type": "code",
   "execution_count": 4,
   "metadata": {},
   "outputs": [],
   "source": [
    "joint_positions = np.vstack([O[:,0], np.zeros(np.shape(O[:,0])), np.zeros(np.shape(O[:,0]))]).T\n",
    "pole_positions = joint_positions + np.vstack([np.sin(O[:,2]), np.zeros(np.shape(O[:,2])), np.cos(O[:,2])]).T\n",
    "joint_positions = np.float32(joint_positions)\n",
    "pole_positions = np.float32(pole_positions)\n",
    "\n",
    "cart = Cube(origin=joint_positions[0], size=0.1).mesh\n",
    "cart.scaling = [1, 0.5, 1]\n",
    "joint = k3d.points(joint_positions[0], point_size=0.2)\n",
    "pole = k3d.line(vertices=np.array([joint_positions[0], pole_positions[0]]), shader='simple', color=0xff0000)\n",
    "box = cart.vertices\n",
    "\n",
    "plot += pole + cart"
   ]
  },
  {
   "cell_type": "code",
   "execution_count": 5,
   "metadata": {},
   "outputs": [
    {
     "data": {
      "application/vnd.jupyter.widget-view+json": {
       "model_id": "99b869636ea84a4d8a6271f9b49dc25f",
       "version_major": 2,
       "version_minor": 0
      },
      "text/plain": [
       "Output()"
      ]
     },
     "metadata": {},
     "output_type": "display_data"
    }
   ],
   "source": [
    "plot.display()"
   ]
  },
  {
   "cell_type": "code",
   "execution_count": 6,
   "metadata": {},
   "outputs": [],
   "source": [
    "rate_limiter = RateLimiter(max_calls=1, period=1/30)\n",
    "\n",
    "for i in range(np.shape(O)[0]):\n",
    "    with rate_limiter:\n",
    "        cart.vertices = box + joint_positions[i] \n",
    "        joint.positions = joint_positions[i]\n",
    "        pole.vertices = [joint_positions[i], pole_positions[i]]"
   ]
  },
  {
   "cell_type": "code",
   "execution_count": null,
   "metadata": {},
   "outputs": [],
   "source": []
  },
  {
   "cell_type": "code",
   "execution_count": null,
   "metadata": {},
   "outputs": [],
   "source": []
  }
 ],
 "metadata": {
  "kernelspec": {
   "display_name": "Python 3",
   "language": "python",
   "name": "python3"
  },
  "language_info": {
   "codemirror_mode": {
    "name": "ipython",
    "version": 3
   },
   "file_extension": ".py",
   "mimetype": "text/x-python",
   "name": "python",
   "nbconvert_exporter": "python",
   "pygments_lexer": "ipython3",
   "version": "3.6.6"
  }
 },
 "nbformat": 4,
 "nbformat_minor": 2
}
