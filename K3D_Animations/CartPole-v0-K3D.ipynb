{
 "cells": [
  {
   "cell_type": "code",
   "execution_count": null,
   "metadata": {},
   "outputs": [],
   "source": [
    "import numpy as np\n",
    "import gym\n",
    "import k3d\n",
    "from ratelimiter import RateLimiter\n",
    "from k3d.platonic import Cube\n",
    "from time import time\n",
    "\n",
    "rate_limiter = RateLimiter(max_calls=4, period=1)\n",
    "\n",
    "env = gym.make('CartPole-v0')\n",
    "observation = env.reset()\n",
    "\n",
    "plot = k3d.plot(grid_auto_fit=False, camera_auto_fit=False, grid=(-1,-1,-1,1,1,1))\n",
    "\n",
    "joint_positions = np.array([observation[0], 0, 0], dtype=np.float32)\n",
    "pole_positions = joint_positions + np.array([np.sin(observation[2]), 0, np.cos(observation[2])], dtype=np.float32)\n",
    "\n",
    "cart = Cube(origin=joint_positions, size=0.1).mesh\n",
    "cart.scaling = [1, 0.5, 1]\n",
    "\n",
    "joint = k3d.points(np.mean(cart.vertices[[0,2,4,6]], axis=0), point_size=0.03, color=0xff00, shader='mesh')\n",
    "pole = k3d.line(vertices=np.array([joint.positions, pole_positions]), shader='mesh', color=0xff0000)\n",
    "box = cart.vertices\n",
    "mass = k3d.points(pole_positions, point_size=0.03, color=0xff0000, shader='mesh')\n",
    "\n",
    "plot += pole + cart + joint + mass\n",
    "\n",
    "plot.display()"
   ]
  },
  {
   "cell_type": "code",
   "execution_count": null,
   "metadata": {},
   "outputs": [],
   "source": [
    "for i_episode in range(20):\n",
    "    observation = env.reset()\n",
    "    for t in range(100):\n",
    "        with rate_limiter:\n",
    "            joint_positions = np.array([observation[0], 0, 0], dtype=np.float32)\n",
    "            pole_positions = joint_positions + np.array([np.sin(observation[2]), 0, np.cos(observation[2])], dtype=np.float32)\n",
    "\n",
    "            cart.vertices = box + joint_positions\n",
    "            joint.positions = np.mean(cart.vertices[[0,2,4,6]], axis=0)\n",
    "            pole.vertices = [joint.positions, pole_positions]\n",
    "            mass.positions = pole_positions\n",
    "            \n",
    "            action = env.action_space.sample()\n",
    "            observation, reward, done, info = env.step(action)\n",
    "            if done:\n",
    "                break"
   ]
  },
  {
   "cell_type": "code",
   "execution_count": null,
   "metadata": {},
   "outputs": [],
   "source": [
    "plot.display()"
   ]
  },
  {
   "cell_type": "code",
   "execution_count": null,
   "metadata": {},
   "outputs": [],
   "source": [
    "for i_episode in range(20):\n",
    "    observation = env.reset()\n",
    "    for t in range(100):\n",
    "        \n",
    "        joint_positions = np.array([observation[0], 0, 0], dtype=np.float32)\n",
    "        pole_positions = joint_positions + np.array([np.sin(observation[2]), 0, np.cos(observation[2])], dtype=np.float32)\n",
    "        \n",
    "        with rate_limiter:\n",
    "            cart.vertices = box + joint_positions\n",
    "            joint.positions = np.mean(cart.vertices[[0,2,4,6]], axis=0)\n",
    "            pole.vertices = [joint.positions, pole_positions]\n",
    "            mass.positions = pole_positions\n",
    "\n",
    "        action = env.action_space.sample()\n",
    "        observation, reward, done, info = env.step(action)\n",
    "        \n",
    "        if done:\n",
    "            break"
   ]
  },
  {
   "cell_type": "code",
   "execution_count": null,
   "metadata": {},
   "outputs": [],
   "source": [
    "max_calls, period = 4, 1\n",
    "call_time = period/max_calls\n",
    "\n",
    "for i_episode in range(20):\n",
    "    observation = env.reset()\n",
    "    for t in range(100):\n",
    "        \n",
    "        joint_positions = np.array([observation[0], 0, 0], dtype=np.float32)\n",
    "        pole_positions = joint_positions + np.array([np.sin(observation[2]), 0, np.cos(observation[2])], dtype=np.float32)\n",
    "        time_stamp2 = time()\n",
    "        \n",
    "        if t>0:\n",
    "            d = time_stamp2 - time_stamp1\n",
    "            if d < call_time:\n",
    "                cart.vertices = box + joint_positions\n",
    "                joint.positions = np.mean(cart.vertices[[0,2,4,6]], axis=0)\n",
    "                pole.vertices = [joint.positions, pole_positions]\n",
    "                mass.positions = pole_positions\n",
    "        if t==0:\n",
    "            cart.vertices = box + joint_positions\n",
    "            joint.positions = np.mean(cart.vertices[[0,2,4,6]], axis=0)\n",
    "            pole.vertices = [joint.positions, pole_positions]\n",
    "            mass.positions = pole_positions\n",
    "\n",
    "        \n",
    "        time_stamp1 = time()\n",
    "        action = env.action_space.sample()\n",
    "        observation, reward, done, info = env.step(action)\n",
    "        \n",
    "        if done:\n",
    "            break"
   ]
  },
  {
   "cell_type": "code",
   "execution_count": null,
   "metadata": {},
   "outputs": [],
   "source": []
  }
 ],
 "metadata": {
  "kernelspec": {
   "display_name": "Python 3",
   "language": "python",
   "name": "python3"
  },
  "language_info": {
   "codemirror_mode": {
    "name": "ipython",
    "version": 3
   },
   "file_extension": ".py",
   "mimetype": "text/x-python",
   "name": "python",
   "nbconvert_exporter": "python",
   "pygments_lexer": "ipython3",
   "version": "3.6.6"
  }
 },
 "nbformat": 4,
 "nbformat_minor": 2
}
