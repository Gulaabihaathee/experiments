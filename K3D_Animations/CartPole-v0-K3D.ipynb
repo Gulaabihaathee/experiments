{
 "cells": [
  {
   "cell_type": "code",
   "execution_count": 1,
   "metadata": {},
   "outputs": [
    {
     "name": "stdout",
     "output_type": "stream",
     "text": [
      "\u001b[33mWARN: gym.spaces.Box autodetected dtype as <class 'numpy.float32'>. Please provide explicit dtype.\u001b[0m\n"
     ]
    },
    {
     "data": {
      "application/vnd.jupyter.widget-view+json": {
       "model_id": "4bf60389175e4f029209a4f30ccc5b33",
       "version_major": 2,
       "version_minor": 0
      },
      "text/plain": [
       "Output()"
      ]
     },
     "metadata": {},
     "output_type": "display_data"
    }
   ],
   "source": [
    "import numpy as np\n",
    "import gym\n",
    "import k3d\n",
    "from ratelimiter import RateLimiter\n",
    "from k3d.platonic import Cube\n",
    "from time import time\n",
    "\n",
    "rate_limiter = RateLimiter(max_calls=4, period=1)\n",
    "\n",
    "env = gym.make('CartPole-v0')\n",
    "observation = env.reset()\n",
    "\n",
    "plot = k3d.plot(grid_auto_fit=False, camera_auto_fit=False, grid=(-1,-1,-1,1,1,1))\n",
    "\n",
    "joint_positions = np.array([observation[0], 0, 0], dtype=np.float32)\n",
    "pole_positions = joint_positions + np.array([np.sin(observation[2]), 0, np.cos(observation[2])], dtype=np.float32)\n",
    "\n",
    "cart = Cube(origin=joint_positions, size=0.1).mesh\n",
    "cart.scaling = [1, 0.5, 1]\n",
    "\n",
    "joint = k3d.points(np.mean(cart.vertices[[0,2,4,6]], axis=0), point_size=0.03, color=0xff00, shader='mesh')\n",
    "pole = k3d.line(vertices=np.array([joint.positions, pole_positions]), shader='mesh', color=0xff0000)\n",
    "box = cart.vertices\n",
    "mass = k3d.points(pole_positions, point_size=0.03, color=0xff0000, shader='mesh')\n",
    "\n",
    "plot += pole + cart + joint + mass\n",
    "\n",
    "plot.display()"
   ]
  },
  {
   "cell_type": "code",
   "execution_count": null,
   "metadata": {},
   "outputs": [],
   "source": [
    "for i_episode in range(20):\n",
    "    observation = env.reset()\n",
    "    for t in range(100):\n",
    "        with rate_limiter:\n",
    "            joint_positions = np.array([observation[0], 0, 0], dtype=np.float32)\n",
    "            pole_positions = joint_positions + np.array([np.sin(observation[2]), 0, np.cos(observation[2])], dtype=np.float32)\n",
    "\n",
    "            cart.vertices = box + joint_positions\n",
    "            joint.positions = np.mean(cart.vertices[[0,2,4,6]], axis=0)\n",
    "            pole.vertices = [joint.positions, pole_positions]\n",
    "            mass.positions = pole_positions\n",
    "            \n",
    "            action = env.action_space.sample()\n",
    "            observation, reward, done, info = env.step(action)\n",
    "            if done:\n",
    "                break"
   ]
  },
  {
   "cell_type": "code",
   "execution_count": null,
   "metadata": {},
   "outputs": [],
   "source": [
    "plot.display()"
   ]
  },
  {
   "cell_type": "code",
   "execution_count": null,
   "metadata": {},
   "outputs": [],
   "source": [
    "for i_episode in range(20):\n",
    "    observation = env.reset()\n",
    "    for t in range(100):\n",
    "        \n",
    "        joint_positions = np.array([observation[0], 0, 0], dtype=np.float32)\n",
    "        pole_positions = joint_positions + np.array([np.sin(observation[2]), 0, np.cos(observation[2])], dtype=np.float32)\n",
    "        \n",
    "        with rate_limiter:\n",
    "            cart.vertices = box + joint_positions\n",
    "            joint.positions = np.mean(cart.vertices[[0,2,4,6]], axis=0)\n",
    "            pole.vertices = [joint.positions, pole_positions]\n",
    "            mass.positions = pole_positions\n",
    "\n",
    "        action = env.action_space.sample()\n",
    "        observation, reward, done, info = env.step(action)\n",
    "        \n",
    "        if done:\n",
    "            break"
   ]
  },
  {
   "cell_type": "code",
   "execution_count": null,
   "metadata": {},
   "outputs": [],
   "source": [
    "max_calls, period = 3, 1\n",
    "call_time = period/max_calls\n",
    "\n",
    "for i_episode in range(20):\n",
    "    observation = env.reset()\n",
    "    for t in range(100):\n",
    "        \n",
    "        joint_positions = np.array([observation[0], 0, 0], dtype=np.float32)\n",
    "        pole_positions = joint_positions + np.array([np.sin(observation[2]), 0, np.cos(observation[2])], dtype=np.float32)\n",
    "        time_stamp2 = time()\n",
    "        \n",
    "        if t>0:\n",
    "            d = time_stamp2 - time_stamp1\n",
    "            if d < call_time:\n",
    "                cart.vertices = box + joint_positions\n",
    "                joint.positions = np.mean(cart.vertices[[0,2,4,6]], axis=0)\n",
    "                pole.vertices = [joint.positions, pole_positions]\n",
    "                mass.positions = pole_positions\n",
    "                \n",
    "        if t==0:\n",
    "            cart.vertices = box + joint_positions\n",
    "            joint.positions = np.mean(cart.vertices[[0,2,4,6]], axis=0)\n",
    "            pole.vertices = [joint.positions, pole_positions]\n",
    "            mass.positions = pole_positions\n",
    "            \n",
    "        time_stamp1 = time()\n",
    "        action = env.action_space.sample()\n",
    "        observation, reward, done, info = env.step(action)\n",
    "        \n",
    "        if done:\n",
    "            break"
   ]
  },
  {
   "cell_type": "code",
   "execution_count": null,
   "metadata": {},
   "outputs": [],
   "source": []
  },
  {
   "cell_type": "code",
   "execution_count": null,
   "metadata": {},
   "outputs": [],
   "source": []
  },
  {
   "cell_type": "code",
   "execution_count": null,
   "metadata": {},
   "outputs": [],
   "source": []
  },
  {
   "cell_type": "code",
   "execution_count": null,
   "metadata": {},
   "outputs": [],
   "source": []
  },
  {
   "cell_type": "code",
   "execution_count": null,
   "metadata": {},
   "outputs": [],
   "source": []
  },
  {
   "cell_type": "code",
   "execution_count": null,
   "metadata": {},
   "outputs": [],
   "source": []
  },
  {
   "cell_type": "code",
   "execution_count": 3,
   "metadata": {},
   "outputs": [],
   "source": [
    "max_calls, period = 3, 1\n",
    "call_time = period/max_calls\n",
    "i = 1\n",
    "all_it_time = 0\n",
    "cache = []\n",
    "iterator = []\n",
    "\n",
    "\n",
    "for i_episode in range(20):\n",
    "    cache.append([])\n",
    "    observation = env.reset()\n",
    "    for t in range(100):\n",
    "        ts1 = time()\n",
    "        joint_positions = np.array([observation[0], 0, 0], dtype=np.float32)\n",
    "        pole_positions = joint_positions + np.array([np.sin(observation[2]), 0, np.cos(observation[2])], dtype=np.float32)\n",
    "\n",
    "        # [cart.vertices, joint.positions, pole.vertices, mass.positions]\n",
    "        cache[i_episode].append([box + joint_positions, np.mean((box + joint_positions)[[0,2,4,6]], axis=0),\n",
    "                                [np.mean((box + joint_positions)[[0,2,4,6]], axis=0), pole_positions],\n",
    "                                pole_positions])\n",
    "        \n",
    "        if all_it_time > call_time*i:\n",
    "            i += 1\n",
    "            iterator = iter(iterator)\n",
    "            element = next(iterator)\n",
    "            cart.vertices = element[0]\n",
    "            joint.positions = element[1]\n",
    "            pole.vertices = element[2]\n",
    "            mass.positions = element[3]\n",
    "\n",
    "        action = env.action_space.sample()\n",
    "        observation, reward, done, info = env.step(action)\n",
    "        ts2 = time()\n",
    "\n",
    "        it_time = ts2 - ts1\n",
    "        all_it_time += it_time\n",
    "\n",
    "        if done:\n",
    "            break\n",
    "\n",
    "    temp_list = []\n",
    "    to_pull = t//max_calls\n",
    "    if max_calls > t:\n",
    "        to_pull = 1\n",
    "\n",
    "    for j in range(max_calls):\n",
    "        temp_list.append(cache[i_episode][to_pull*i])\n",
    "\n",
    "    iterator = list(iterator) + temp_list\n",
    "\n",
    "del cache\n",
    "for element in iterator:\n",
    "    with RateLimiter(max_calls=max_calls):\n",
    "\n",
    "        i += 1\n",
    "        iterator = iter(iterator)\n",
    "        element = next(iterator)\n",
    "        cart.vertices = element[0]\n",
    "        joint.positions = element[1]\n",
    "        pole.vertices = element[2]\n",
    "        mass.positions = element[3]"
   ]
  },
  {
   "cell_type": "code",
   "execution_count": 2,
   "metadata": {},
   "outputs": [
    {
     "data": {
      "application/vnd.jupyter.widget-view+json": {
       "model_id": "ecb3388d2f3945c4a0adeaec02f2d058",
       "version_major": 2,
       "version_minor": 0
      },
      "text/plain": [
       "Output()"
      ]
     },
     "metadata": {},
     "output_type": "display_data"
    }
   ],
   "source": [
    "plot.display()"
   ]
  },
  {
   "cell_type": "code",
   "execution_count": null,
   "metadata": {},
   "outputs": [],
   "source": []
  },
  {
   "cell_type": "code",
   "execution_count": null,
   "metadata": {},
   "outputs": [],
   "source": []
  }
 ],
 "metadata": {
  "kernelspec": {
   "display_name": "Python 3",
   "language": "python",
   "name": "python3"
  },
  "language_info": {
   "codemirror_mode": {
    "name": "ipython",
    "version": 3
   },
   "file_extension": ".py",
   "mimetype": "text/x-python",
   "name": "python",
   "nbconvert_exporter": "python",
   "pygments_lexer": "ipython3",
   "version": "3.6.6"
  }
 },
 "nbformat": 4,
 "nbformat_minor": 2
}
