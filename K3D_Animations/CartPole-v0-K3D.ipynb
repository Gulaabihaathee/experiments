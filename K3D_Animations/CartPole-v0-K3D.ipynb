{
 "cells": [
  {
   "cell_type": "code",
   "execution_count": 7,
   "metadata": {},
   "outputs": [
    {
     "name": "stdout",
     "output_type": "stream",
     "text": [
      "\u001b[33mWARN: gym.spaces.Box autodetected dtype as <class 'numpy.float32'>. Please provide explicit dtype.\u001b[0m\n"
     ]
    },
    {
     "data": {
      "application/vnd.jupyter.widget-view+json": {
       "model_id": "15ae081d24d046f08ba1643ea703d701",
       "version_major": 2,
       "version_minor": 0
      },
      "text/plain": [
       "Output()"
      ]
     },
     "metadata": {},
     "output_type": "display_data"
    }
   ],
   "source": [
    "import numpy as np\n",
    "import gym\n",
    "import k3d\n",
    "from ratelimiter import RateLimiter\n",
    "from k3d.platonic import Cube\n",
    "\n",
    "\n",
    "rate_limiter = RateLimiter(max_calls=1, period=1/30)\n",
    "\n",
    "env = gym.make('CartPole-v0')\n",
    "observation = env.reset()\n",
    "\n",
    "plot = k3d.plot(grid_auto_fit=False, camera_auto_fit=False, grid=(-1,-1,-1,1,1,1))\n",
    "\n",
    "joint_positions = np.array([observation[0], 0, 0], dtype=np.float32)\n",
    "pole_positions = joint_positions + np.array([np.sin(observation[2]), 0, np.cos(observation[2])], dtype=np.float32)\n",
    "\n",
    "cart = Cube(origin=joint_positions, size=0.1).mesh\n",
    "cart.scaling = [1, 0.5, 1]\n",
    "\n",
    "joint = k3d.points(joint_positions[0], point_size=0.2)\n",
    "pole = k3d.line(vertices=np.array([joint_positions, pole_positions]), shader='simple', color=0xff0000)\n",
    "box = cart.vertices\n",
    "\n",
    "plot += pole + cart\n",
    "\n",
    "plot.display()"
   ]
  },
  {
   "cell_type": "code",
   "execution_count": 8,
   "metadata": {},
   "outputs": [],
   "source": [
    "for i_episode in range(20):\n",
    "    observation = env.reset()\n",
    "    for t in range(100):\n",
    "        with rate_limiter:\n",
    "            joint_positions = np.array([observation[0], 0, 0], dtype=np.float32)\n",
    "            pole_positions = joint_positions + np.array([np.sin(observation[2]), 0, np.cos(observation[2])], dtype=np.float32)\n",
    "\n",
    "            cart.vertices = box + joint_positions\n",
    "            joint.positions = joint_positions\n",
    "            pole.vertices = [joint_positions, pole_positions]\n",
    "\n",
    "            action = env.action_space.sample()\n",
    "            observation, reward, done, info = env.step(action)\n",
    "            if done:\n",
    "                #print(\"Episode finished after {} timesteps\".format(t+1))\n",
    "                break"
   ]
  },
  {
   "cell_type": "code",
   "execution_count": 9,
   "metadata": {},
   "outputs": [
    {
     "data": {
      "application/vnd.jupyter.widget-view+json": {
       "model_id": "7b30ee47eac64e999765d4c6a8bce922",
       "version_major": 2,
       "version_minor": 0
      },
      "text/plain": [
       "Output()"
      ]
     },
     "metadata": {},
     "output_type": "display_data"
    }
   ],
   "source": [
    "plot.display()"
   ]
  },
  {
   "cell_type": "code",
   "execution_count": 10,
   "metadata": {},
   "outputs": [],
   "source": [
    "for i_episode in range(20):\n",
    "    observation = env.reset()\n",
    "    for t in range(100):\n",
    "        \n",
    "            if t%5 == 0:\n",
    "                joint_positions = np.array([observation[0], 0, 0], dtype=np.float32)\n",
    "                pole_positions = joint_positions + np.array([np.sin(observation[2]), 0, np.cos(observation[2])], dtype=np.float32)\n",
    "\n",
    "                cart.vertices = box + joint_positions\n",
    "                joint.positions = joint_positions\n",
    "                pole.vertices = [joint_positions, pole_positions]\n",
    "\n",
    "            action = env.action_space.sample()\n",
    "            observation, reward, done, info = env.step(action)\n",
    "            if done:\n",
    "                #print(\"Episode finished after {} timesteps\".format(t+1))\n",
    "                break"
   ]
  },
  {
   "cell_type": "code",
   "execution_count": null,
   "metadata": {},
   "outputs": [],
   "source": []
  }
 ],
 "metadata": {
  "kernelspec": {
   "display_name": "Python 3",
   "language": "python",
   "name": "python3"
  },
  "language_info": {
   "codemirror_mode": {
    "name": "ipython",
    "version": 3
   },
   "file_extension": ".py",
   "mimetype": "text/x-python",
   "name": "python",
   "nbconvert_exporter": "python",
   "pygments_lexer": "ipython3",
   "version": "3.6.6"
  }
 },
 "nbformat": 4,
 "nbformat_minor": 2
}
