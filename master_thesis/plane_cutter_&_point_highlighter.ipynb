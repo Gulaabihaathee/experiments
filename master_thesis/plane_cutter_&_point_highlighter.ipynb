{
 "cells": [
  {
   "cell_type": "code",
   "execution_count": null,
   "metadata": {},
   "outputs": [],
   "source": [
    "import numpy as np\n",
    "import pandas as pd\n",
    "import k3d\n",
    "\n",
    "from ipywidgets import interact, Output\n",
    "from ipywidgets.widgets import FloatSlider, IntSlider, Button, RadioButtons\n",
    "from ipywidgets.widgets import HBox, interactive_output, VBox, Layout\n",
    "from IPython.display import display, clear_output\n",
    "\n",
    "err = np.arange(3)*np.finfo(dtype=np.float32).resolution\n",
    "\n",
    "def xyz(x1, y1, z1, x2, y2, z2, x3, y3, z3, radio):\n",
    "    pos1 = np.array([x1, y1, z1], dtype=np.float32)\n",
    "    pos2 = np.array([x2, y2, z2], dtype=np.float32)\n",
    "    pos3 = np.array([x3, y3, z3], dtype=np.float32)\n",
    "    \n",
    "    \n",
    "    point1.positions = pos1\n",
    "    point2.positions = pos2\n",
    "    point3.positions = pos3 \n",
    "    \n",
    "    three_points = np.float32([point1.positions, point2.positions, point3.positions])\n",
    "    x, y, z = three_points[:,0]+err, three_points[:,1]+err, three_points[:,2]+err\n",
    "    X, Y, Z = data_points.positions[:,0], data_points.positions[:,1], data_points.positions[:,2]\n",
    "    \n",
    "    M = np.vstack([x, y, np.ones(3)]).T\n",
    "    try:\n",
    "        A, B, D = np.matmul(np.linalg.inv(M), z).round(10)\n",
    "\n",
    "        if radio == 'below':\n",
    "            cond = np.vstack([X, Y, Z]).T < np.vstack([X, Y, A*X+B*Y+D]).T\n",
    "        if radio == 'above':\n",
    "            cond = np.vstack([X, Y, Z]).T > np.vstack([X, Y, A*X+B*Y+D]).T\n",
    "\n",
    "        data_points.colors = np.zeros(data.shape[0], dtype=np.uint32)\n",
    "        data_points.colors[cond[:,0]+cond[:,1]+cond[:,2]] = 0xff0000\n",
    "        data_points.colors = data_points.colors\n",
    "        plane.vertices = np.float32([pos1, pos2, pos3])\n",
    "        return cond\n",
    "    \n",
    "    except np.linalg.LinAlgError:\n",
    "        plane.vertices = np.float32([pos1, pos2, pos3])\n",
    "\n",
    "        \n",
    "        \n",
    "    \n",
    "def on_button_clicked(_):\n",
    "    with out:\n",
    "        cond = xyz(x1.value, y1.value, z1.value, x2.value, y2.value, z2.value, x3.value, y3.value, z3.value, radio.value)\n",
    "        clear_output()\n",
    "        cutted_data.append(data[cond[:,0]+cond[:,1]+cond[:,2]])\n",
    "        print('Cutted!')"
   ]
  },
  {
   "cell_type": "code",
   "execution_count": null,
   "metadata": {},
   "outputs": [],
   "source": [
    "X,Y,Z = np.meshgrid(np.linspace(0,4,7), np.linspace(0,4,7), np.linspace(0,4,7))\n",
    "data = np.vstack([np.ravel(X), np.ravel(Y), np.ravel(Z)]).T\n",
    "data += np.random.uniform(-0.05, 0.05, data.shape)"
   ]
  },
  {
   "cell_type": "code",
   "execution_count": null,
   "metadata": {},
   "outputs": [],
   "source": [
    "cutted_data = []\n",
    "origin = np.array([data[:,0].min(), data[:,1].min(), data[:,2].min()])\n",
    "end = np.array([data[:,0].max(), data[:,1].max(), data[:,2].max()])"
   ]
  },
  {
   "cell_type": "code",
   "execution_count": null,
   "metadata": {},
   "outputs": [],
   "source": [
    "# visualisation widget\n",
    "plot = k3d.plot()\n",
    "\n",
    "point1 = k3d.points(origin.astype(np.float32), point_size=0.06, color=0x00ff00)\n",
    "point2 = k3d.points((end+origin).astype(np.float32), point_size=0.06, color=0x00ff00)\n",
    "point3 = k3d.points(end.astype(np.float32), point_size=0.06, color=0x00ff00)\n",
    "\n",
    "plane = k3d.mesh([point1.positions, point2.positions, point3.positions], [0,1,2])\n",
    "\n",
    "data_points = k3d.points(data.astype(np.float32), point_size=0.04, color=0) \n",
    "origin_point = k3d.points(origin.astype(np.float32), point_size=0.04)\n",
    "end_point = k3d.points(end.astype(np.float32), point_size=0.04)\n",
    "\n",
    "plot += point1 + point2 + point3 + plane + data_points + origin_point + end_point"
   ]
  },
  {
   "cell_type": "code",
   "execution_count": null,
   "metadata": {
    "scrolled": false
   },
   "outputs": [],
   "source": [
    "# widget interface\n",
    "x1 = FloatSlider(value=origin[0], min=origin[0], max=end[0], step=0.01, description='x1')\n",
    "y1 = FloatSlider(value=origin[1], min=origin[1], max=end[1],step=0.01, description='y1')\n",
    "z1 = FloatSlider(value=origin[2], min=origin[2], max=end[2], step=0.01, description='z1')\n",
    "\n",
    "x2 = FloatSlider(value=origin[0]+end[0], min=origin[0], max=end[0], step=0.01, description='x2')\n",
    "y2 = FloatSlider(value=origin[1], min=origin[1], max=end[1],step=0.01, description='y2')\n",
    "z2 = FloatSlider(value=origin[2]+end[2], min=origin[2], max=end[2], step=0.01, description='z2')\n",
    "\n",
    "x3 = FloatSlider(value=end[0], min=origin[0], max=end[0], step=0.01, description='x3')\n",
    "y3 = FloatSlider(value=end[1], min=origin[1], max=end[1],step=0.01, description='y3')\n",
    "z3 = FloatSlider(value=end[2], min=origin[2], max=end[2], step=0.01, description='z3')\n",
    "\n",
    "radio = RadioButtons(options=['above', 'below'], disabled=False)\n",
    "b = Button(description='Cut')\n",
    "b.on_click(on_button_clicked)\n",
    "\n",
    "ui1 = HBox([x1, y1, z1])\n",
    "ui2 = HBox([x2, y2, z2])\n",
    "ui3 = HBox([x3, y3, z3])\n",
    "ui4 = HBox([radio, b])\n",
    "\n",
    "ui = VBox([ui1, ui2, ui3, ui4])\n",
    "\n",
    "out = interactive_output(xyz, {'x1':x1,'y1':y1,'z1':z1, 'x2':x2,'y2':y2,'z2':z2, 'x3':x3,'y3':y3,'z3':z3, 'radio':radio})    \n",
    "\n",
    "display(ui, out)\n",
    "plot.display()"
   ]
  },
  {
   "cell_type": "code",
   "execution_count": null,
   "metadata": {},
   "outputs": [],
   "source": [
    "fragment = cutted_data[0]\n",
    "k3d.points(fragment.astype(np.float32), point_size=0.05)"
   ]
  },
  {
   "cell_type": "code",
   "execution_count": null,
   "metadata": {},
   "outputs": [],
   "source": [
    "# POINT HIGHLIGHTER\n",
    "\n",
    "from ipywidgets import interact, Output\n",
    "from ipywidgets.widgets import FloatSlider, IntSlider, Button\n",
    "from ipywidgets.widgets import HBox, interactive_output\n",
    "from IPython.display import display, clear_output\n",
    "\n",
    "data = fragment\n",
    "\n",
    "def xyz(n):\n",
    "    data_points.colors = np.zeros(data.shape[0], dtype=np.uint32)\n",
    "    data_points.colors[n] = 0xff0000\n",
    "    \n",
    "    data_points.colors = data_points.colors\n",
    "\n",
    "    \n",
    "plot = k3d.plot()\n",
    "\n",
    "data_points = k3d.points(data.astype(np.float32), point_size=0.05, color=0) \n",
    "plot += data_points\n",
    "\n",
    "n = IntSlider(min=0, max=data.shape[0]-1, description='n')\n",
    "\n",
    "ui = HBox([n])\n",
    "out = interactive_output(xyz, {'n':n})    \n",
    "\n",
    "display(ui, out)\n",
    "plot.display()"
   ]
  },
  {
   "cell_type": "code",
   "execution_count": null,
   "metadata": {},
   "outputs": [],
   "source": []
  }
 ],
 "metadata": {
  "kernelspec": {
   "display_name": "Python 3",
   "language": "python",
   "name": "python3"
  },
  "language_info": {
   "codemirror_mode": {
    "name": "ipython",
    "version": 3
   },
   "file_extension": ".py",
   "mimetype": "text/x-python",
   "name": "python",
   "nbconvert_exporter": "python",
   "pygments_lexer": "ipython3",
   "version": "3.7.4"
  }
 },
 "nbformat": 4,
 "nbformat_minor": 2
}
