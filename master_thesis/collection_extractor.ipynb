{
 "cells": [
  {
   "cell_type": "code",
   "execution_count": 1,
   "metadata": {},
   "outputs": [],
   "source": [
    "import numpy as np\n",
    "import pandas as pd\n",
    "import k3d\n",
    "\n",
    "from ipywidgets import interact, Output\n",
    "from ipywidgets.widgets import FloatSlider, IntSlider, Button\n",
    "from ipywidgets.widgets import HBox, interactive_output\n",
    "from IPython.display import display, clear_output\n",
    "\n",
    "\n",
    "def distance(a, b):\n",
    "    return np.sqrt(np.sum((a-b)**2, axis=1))\n",
    "\n",
    "def nearest_neighbours(origin, data, n_count):\n",
    "    data = np.array(data)\n",
    "    data_df = pd.DataFrame(data, columns=['x','y','z'])\n",
    "    data_df['d'] = distance(origin, data)\n",
    "    data_df = data_df.sort_values(by='d')\n",
    "    nn = data_df[['x','y','z']][:n_count]\n",
    "    return nn.values, nn.index\n",
    "\n",
    "def xyz(n, x, y, z):\n",
    "    pos = np.array([x, y, z], dtype=np.float32)\n",
    "    point.positions = pos\n",
    "    nn = nearest_neighbours(pos, data, n)\n",
    "    \n",
    "    data_points.colors = np.zeros(data.shape[0], dtype=np.uint32)\n",
    "    data_points.colors[nn[1]] = 0xff0000\n",
    "    data_points.colors = data_points.colors\n",
    "\n",
    "def on_button_clicked(_):\n",
    "    with out:\n",
    "        clear_output()\n",
    "        collected_data.append(nearest_neighbours(np.array([x.value, y.value, z.value]), data, n.value)[0])\n",
    "        print('Extracted!')"
   ]
  },
  {
   "cell_type": "code",
   "execution_count": 2,
   "metadata": {},
   "outputs": [],
   "source": [
    "X,Y,Z = np.meshgrid(np.linspace(0,4,7), np.linspace(0,4,7), np.linspace(0,4,7))\n",
    "data = np.vstack([np.ravel(X), np.ravel(Y), np.ravel(Z)]).T\n",
    "data += np.random.uniform(-0.05, 0.05, data.shape)"
   ]
  },
  {
   "cell_type": "code",
   "execution_count": 3,
   "metadata": {},
   "outputs": [],
   "source": [
    "collected_data = []\n",
    "origin = np.array([data[:,0].min(), data[:,1].min(), data[:,2].min()])\n",
    "end = np.array([data[:,0].max(), data[:,1].max(), data[:,2].max()])"
   ]
  },
  {
   "cell_type": "code",
   "execution_count": 4,
   "metadata": {},
   "outputs": [],
   "source": [
    "# visualisation widget\n",
    "plot = k3d.plot()\n",
    "point = k3d.points(origin.astype(np.float32), point_size=0.05, color=0x00ff00)\n",
    "\n",
    "data_points = k3d.points(data.astype(np.float32), point_size=0.04, color=0) \n",
    "origin_point = k3d.points(origin.astype(np.float32), point_size=0.04)\n",
    "end_point = k3d.points(end.astype(np.float32), point_size=0.04)\n",
    "\n",
    "plot += point + data_points + origin_point + end_point"
   ]
  },
  {
   "cell_type": "code",
   "execution_count": 5,
   "metadata": {
    "scrolled": false
   },
   "outputs": [
    {
     "data": {
      "application/vnd.jupyter.widget-view+json": {
       "model_id": "fca37157ab0445028669c25ad917c291",
       "version_major": 2,
       "version_minor": 0
      },
      "text/plain": [
       "HBox(children=(IntSlider(value=0, description='n'), FloatSlider(value=0.0, description='x', max=4.049607276120…"
      ]
     },
     "metadata": {},
     "output_type": "display_data"
    },
    {
     "data": {
      "application/vnd.jupyter.widget-view+json": {
       "model_id": "c9cdc244adbf4e8fb0e1328f2aaf2265",
       "version_major": 2,
       "version_minor": 0
      },
      "text/plain": [
       "Output()"
      ]
     },
     "metadata": {},
     "output_type": "display_data"
    },
    {
     "data": {
      "application/vnd.jupyter.widget-view+json": {
       "model_id": "6e94cb7f851147a6ac3417b83b8d9ab9",
       "version_major": 2,
       "version_minor": 0
      },
      "text/plain": [
       "Output()"
      ]
     },
     "metadata": {},
     "output_type": "display_data"
    }
   ],
   "source": [
    "# widget interface\n",
    "n = IntSlider(min=0, description='n')\n",
    "x = FloatSlider(min=origin[0], max=end[0], step=0.01, description='x')\n",
    "y = FloatSlider(min=origin[1], max=end[1],step=0.01, description='y')\n",
    "z = FloatSlider(min=origin[2], max=end[2], step=0.01, description='z')\n",
    "b = Button(description='Extract')\n",
    "b.on_click(on_button_clicked)\n",
    "\n",
    "ui = HBox([n, x, y, z, b])\n",
    "out = interactive_output(xyz, {'n':n,'x':x,'y':y,'z':z})    \n",
    "\n",
    "display(ui, out)\n",
    "plot.display()"
   ]
  },
  {
   "cell_type": "code",
   "execution_count": 6,
   "metadata": {},
   "outputs": [],
   "source": [
    "np.save('collected_data', collected_data)"
   ]
  },
  {
   "cell_type": "code",
   "execution_count": 7,
   "metadata": {},
   "outputs": [],
   "source": [
    "loaded_data = np.load('collected_data.npy')"
   ]
  }
 ],
 "metadata": {
  "kernelspec": {
   "display_name": "Python 3",
   "language": "python",
   "name": "python3"
  },
  "language_info": {
   "codemirror_mode": {
    "name": "ipython",
    "version": 3
   },
   "file_extension": ".py",
   "mimetype": "text/x-python",
   "name": "python",
   "nbconvert_exporter": "python",
   "pygments_lexer": "ipython3",
   "version": "3.6.5"
  }
 },
 "nbformat": 4,
 "nbformat_minor": 2
}
