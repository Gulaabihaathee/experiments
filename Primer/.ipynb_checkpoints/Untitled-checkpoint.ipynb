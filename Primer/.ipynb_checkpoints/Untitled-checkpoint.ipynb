{
 "cells": [
  {
   "cell_type": "code",
   "execution_count": 1,
   "metadata": {},
   "outputs": [
    {
     "data": {
      "application/vnd.jupyter.widget-view+json": {
       "model_id": "c6bf8fad45d34703ba9f66c4596b30fc",
       "version_major": 2,
       "version_minor": 0
      },
      "text/plain": [
       "Output()"
      ]
     },
     "metadata": {},
     "output_type": "display_data"
    }
   ],
   "source": [
    "import numpy as np\n",
    "import k3d\n",
    "from platonic import Cube, Octahedron\n",
    "\n",
    "\n",
    "plot = k3d.plot(grid=(-3,-3,-3,3,3,3), grid_auto_fit=False, camera_auto_fit=False)\n",
    "\n",
    "CubeVertices, CubeMesh = Octahedron([0,0,0])\n",
    "plot += CubeVertices + CubeMesh\n",
    "plot.display()"
   ]
  },
  {
   "cell_type": "code",
   "execution_count": 3,
   "metadata": {},
   "outputs": [],
   "source": [
    "CubeMesh.transform.scaling = [1,1,2]"
   ]
  },
  {
   "cell_type": "code",
   "execution_count": null,
   "metadata": {},
   "outputs": [],
   "source": []
  },
  {
   "cell_type": "code",
   "execution_count": null,
   "metadata": {},
   "outputs": [],
   "source": [
    "\n",
    "def Skeleton(origin):\n",
    "    if np.shape(origin) == (3,):\n",
    "    \n",
    "    else:\n",
    "        raise TypeError('Origin attribute should have 3 coordinates.')\n",
    "        \n",
    "    return [skeleton_vertices, skeleton_mesh]\n",
    "\n",
    "\n"
   ]
  }
 ],
 "metadata": {
  "kernelspec": {
   "display_name": "Python 3",
   "language": "python",
   "name": "python3"
  },
  "language_info": {
   "codemirror_mode": {
    "name": "ipython",
    "version": 3
   },
   "file_extension": ".py",
   "mimetype": "text/x-python",
   "name": "python",
   "nbconvert_exporter": "python",
   "pygments_lexer": "ipython3",
   "version": "3.6.6"
  }
 },
 "nbformat": 4,
 "nbformat_minor": 2
}
