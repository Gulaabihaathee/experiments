{
 "cells": [
  {
   "cell_type": "markdown",
   "metadata": {},
   "source": [
    "### The notebook covers basic functionality of data visualization library `k3d`.\n",
    "\n",
    "During reading the notebook You will get answers for questions enumerated below:\n",
    "\n",
    "---\n",
    "**1. How to create a `plot()` and `display()` it?**\n",
    "\n",
    "**2. How to add `points()` to a plot?** \n",
    "\n",
    "**3. How to connect the points with a `line()`?**\n",
    "\n",
    "---"
   ]
  },
  {
   "cell_type": "markdown",
   "metadata": {},
   "source": [
    "**1. To get access to `k3d` functionality, `import` it at first,**\n",
    "\n",
    "**then instantiate a `plot` object, using `plot()` constructor from `k3d` library.**\n",
    "\n",
    "**Call a _method_ on `plot` object to _`display()`_ it.**"
   ]
  },
  {
   "cell_type": "code",
   "execution_count": 1,
   "metadata": {},
   "outputs": [
    {
     "data": {
      "application/vnd.jupyter.widget-view+json": {
       "model_id": "1c35c3876ccf4a269d589729cfba7be0",
       "version_major": 2,
       "version_minor": 0
      },
      "text/plain": [
       "Output()"
      ]
     },
     "metadata": {},
     "output_type": "display_data"
    }
   ],
   "source": [
    "import k3d\n",
    "\n",
    "\n",
    "plot = k3d.plot()\n",
    "plot.display()"
   ]
  },
  {
   "cell_type": "markdown",
   "metadata": {},
   "source": [
    "Running notebook's cell above should results with:\n",
    "![Empty plot](images/K3D-plot.png \"Empty K3D plot\")"
   ]
  },
  {
   "cell_type": "markdown",
   "metadata": {},
   "source": [
    "**2. Instantiate `points` object using `points()` constructor with passed `positions` attribute, which indicates them coordinates in space.**\n",
    "\n",
    "**Use `+=` operator to add `points` object to `plot` object.**"
   ]
  },
  {
   "cell_type": "code",
   "execution_count": 2,
   "metadata": {},
   "outputs": [
    {
     "data": {
      "application/vnd.jupyter.widget-view+json": {
       "model_id": "05242f66cdff4dfd8c4de19dd8e66fa9",
       "version_major": 2,
       "version_minor": 0
      },
      "text/plain": [
       "Output()"
      ]
     },
     "metadata": {},
     "output_type": "display_data"
    }
   ],
   "source": [
    "points = k3d.points( positions=[[-1, -1, -1], [1, 1, 1]] )\n",
    "plot += points\n",
    "\n",
    "plot.display()"
   ]
  },
  {
   "cell_type": "markdown",
   "metadata": {},
   "source": [
    "The displayed plot should look like this presented below:\n",
    "![points](images/K3D-points.png \"K3D plot with points\")\n",
    "Scroll up notebook to the first displayed plot located at the end of **1.** point and notice that the blue objects were added."
   ]
  },
  {
   "cell_type": "markdown",
   "metadata": {},
   "source": [
    "**3. Instantiate `line` object with `line()` constructor with passed `vertices` attribute, which indicates points where it starts and ends.**\n",
    "\n",
    "**Add line to a plot with `+=` operator.**"
   ]
  },
  {
   "cell_type": "code",
   "execution_count": 3,
   "metadata": {},
   "outputs": [
    {
     "data": {
      "application/vnd.jupyter.widget-view+json": {
       "model_id": "37a17da53da94504b69679a1079f79cc",
       "version_major": 2,
       "version_minor": 0
      },
      "text/plain": [
       "Output()"
      ]
     },
     "metadata": {},
     "output_type": "display_data"
    }
   ],
   "source": [
    "line = k3d.line( vertices=points.positions )\n",
    "plot += line\n",
    "\n",
    "plot.display()"
   ]
  },
  {
   "cell_type": "markdown",
   "metadata": {},
   "source": [
    "The displayed plot should look like this presented below:\n",
    "![line](images/K3D-line.png \"K3D plot with points and line\")"
   ]
  },
  {
   "cell_type": "code",
   "execution_count": null,
   "metadata": {},
   "outputs": [],
   "source": []
  }
 ],
 "metadata": {
  "kernelspec": {
   "display_name": "Python 3",
   "language": "python",
   "name": "python3"
  },
  "language_info": {
   "codemirror_mode": {
    "name": "ipython",
    "version": 3
   },
   "file_extension": ".py",
   "mimetype": "text/x-python",
   "name": "python",
   "nbconvert_exporter": "python",
   "pygments_lexer": "ipython3",
   "version": "3.6.6"
  }
 },
 "nbformat": 4,
 "nbformat_minor": 2
}
