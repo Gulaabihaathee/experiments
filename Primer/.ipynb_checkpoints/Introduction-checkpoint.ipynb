{
 "cells": [
  {
   "cell_type": "markdown",
   "metadata": {},
   "source": [
    "### The notebook covers basic functionality of data visualization library `k3d`.\n",
    "\n",
    "During reading the notebook You will get answers for questions enumerated below:\n",
    "\n",
    "---\n",
    "**1. How to create a `plot()` and `display()` it?**\n",
    "\n",
    "**2. How to add `points()` to a plot?** \n",
    "\n",
    "**3. How to connect the points with a `line()`?**\n",
    "\n",
    "**4. What attributes does `k3d` objects have?**\n",
    "\n",
    "**5. How to change attributes of `k3d` objects?**\n",
    "\n",
    "**6. How to manipulate the orientation of camera?**\n",
    "\n",
    "**7. How to add `mesh()` object to a plot?**\n",
    "\n",
    "**8. How to subtract objects from plot?**\n",
    "\n",
    "---\n"
   ]
  },
  {
   "cell_type": "markdown",
   "metadata": {},
   "source": [
    "**1. To get access to `k3d` functionality, `import` it.**\n",
    "\n",
    "**Instantiate a `plot` object, using `plot()` constructor from `k3d` library.**\n",
    "\n",
    "**Call a _method_ on `plot` object to _`display()`_ it.**"
   ]
  },
  {
   "cell_type": "code",
   "execution_count": 11,
   "metadata": {},
   "outputs": [
    {
     "data": {
      "application/vnd.jupyter.widget-view+json": {
       "model_id": "480a70195e8946b28373233991aecea2",
       "version_major": 2,
       "version_minor": 0
      },
      "text/plain": [
       "Output()"
      ]
     },
     "metadata": {},
     "output_type": "display_data"
    }
   ],
   "source": [
    "import k3d\n",
    "\n",
    "\n",
    "plot = k3d.plot()\n",
    "plot.display()"
   ]
  },
  {
   "cell_type": "markdown",
   "metadata": {},
   "source": [
    "Running notebook's cell above should results with:\n",
    "![Empty plot](images/K3D-plot.png \"Empty K3D plot\")"
   ]
  },
  {
   "cell_type": "markdown",
   "metadata": {},
   "source": [
    "**2. Instantiate `points` object using `points()` constructor with passed `positions` attribute, which indicates coordinates in space.**\n",
    "\n",
    "**Use `+=` operator to add `points` object to `plot`.**"
   ]
  },
  {
   "cell_type": "code",
   "execution_count": 12,
   "metadata": {},
   "outputs": [
    {
     "data": {
      "application/vnd.jupyter.widget-view+json": {
       "model_id": "08948a5bc76e43859a899a06d6c2eb5c",
       "version_major": 2,
       "version_minor": 0
      },
      "text/plain": [
       "Output()"
      ]
     },
     "metadata": {},
     "output_type": "display_data"
    }
   ],
   "source": [
    "points = k3d.points( positions=[[-1, -1, -1], [1, 1, 1]] )\n",
    "plot += points\n",
    "\n",
    "plot.display()"
   ]
  },
  {
   "cell_type": "markdown",
   "metadata": {},
   "source": [
    "The displayed plot should look like this presented below:\n",
    "![points](images/K3D-points.png \"K3D plot with points\")\n",
    "Scroll up notebook to the first displayed plot located at the end of **1.** point and notice that the blue objects were added."
   ]
  },
  {
   "cell_type": "markdown",
   "metadata": {},
   "source": [
    "**3. Instantiate `line` object with `line()` constructor with passed `vertices` attribute, which indicates points where it starts and ends.**\n",
    "\n",
    "**Add line to a plot with `+=` operator.**"
   ]
  },
  {
   "cell_type": "code",
   "execution_count": 13,
   "metadata": {},
   "outputs": [
    {
     "data": {
      "application/vnd.jupyter.widget-view+json": {
       "model_id": "f269dd63ac9f492c84a07da2deca1f23",
       "version_major": 2,
       "version_minor": 0
      },
      "text/plain": [
       "Output()"
      ]
     },
     "metadata": {},
     "output_type": "display_data"
    }
   ],
   "source": [
    "line = k3d.line( vertices=points.positions )\n",
    "plot += line\n",
    "\n",
    "plot.display()"
   ]
  },
  {
   "cell_type": "markdown",
   "metadata": {},
   "source": [
    "The displayed plot should look like this presented below:\n",
    "![line](images/K3D-line.png \"K3D plot with points and line\")"
   ]
  },
  {
   "cell_type": "markdown",
   "metadata": {},
   "source": [
    " **4. Command below returns attributes of points object.**"
   ]
  },
  {
   "cell_type": "code",
   "execution_count": 14,
   "metadata": {},
   "outputs": [
    {
     "data": {
      "text/plain": [
       "{'_model_module': 'k3d',\n",
       " '_model_module_version': '^3.0.0',\n",
       " '_model_name': 'ObjectModel',\n",
       " '_view_count': None,\n",
       " '_view_module': None,\n",
       " '_view_module_version': '',\n",
       " '_view_name': None,\n",
       " 'color': 255,\n",
       " 'compression_level': 0,\n",
       " 'id': 140038571007448,\n",
       " 'radial_segments': 8,\n",
       " 'shader': 'thick',\n",
       " 'type': 'Line',\n",
       " 'visible': True,\n",
       " 'width': 0.01,\n",
       " 'comm': <ipykernel.comm.comm.Comm at 0x7f5d45479be0>,\n",
       " 'vertices': array([[-1., -1., -1.],\n",
       "        [ 1.,  1.,  1.]], dtype=float32),\n",
       " 'colors': array([], dtype=uint32),\n",
       " 'attribute': array([], dtype=float32),\n",
       " 'color_map': array([], dtype=float32),\n",
       " 'color_range': [],\n",
       " 'keys': ['_model_module',\n",
       "  '_model_module_version',\n",
       "  '_model_name',\n",
       "  '_view_count',\n",
       "  '_view_module',\n",
       "  '_view_module_version',\n",
       "  '_view_name',\n",
       "  'attribute',\n",
       "  'color',\n",
       "  'color_map',\n",
       "  'color_range',\n",
       "  'colors',\n",
       "  'compression_level',\n",
       "  'id',\n",
       "  'model_matrix',\n",
       "  'radial_segments',\n",
       "  'shader',\n",
       "  'type',\n",
       "  'vertices',\n",
       "  'visible',\n",
       "  'width'],\n",
       " 'model_matrix': array([[1., 0., 0., 0.],\n",
       "        [0., 1., 0., 0.],\n",
       "        [0., 0., 1., 0.],\n",
       "        [0., 0., 0., 1.]], dtype=float32),\n",
       " '_property_lock': {}}"
      ]
     },
     "execution_count": 14,
     "metadata": {},
     "output_type": "execute_result"
    }
   ],
   "source": [
    "line.__dict__['_trait_values']"
   ]
  },
  {
   "cell_type": "markdown",
   "metadata": {},
   "source": [
    "**5. There are two basic ways of setting the object attributes:**\n",
    "\n",
    "**- By passing attributes values while constructing an object.**"
   ]
  },
  {
   "cell_type": "code",
   "execution_count": 15,
   "metadata": {},
   "outputs": [
    {
     "data": {
      "application/vnd.jupyter.widget-view+json": {
       "model_id": "6fa1a98195824226adf4d34bb12077f7",
       "version_major": 2,
       "version_minor": 0
      },
      "text/plain": [
       "Output()"
      ]
     },
     "metadata": {},
     "output_type": "display_data"
    }
   ],
   "source": [
    "third_point = k3d.points(positions=[2,-1,1], point_size=0.6, color=0x00ff00, shader='mesh')\n",
    "cyan_line = k3d.line(vertices=[[-1,-1,-1], [2,-1,1], [1,1,1]], color=0x00fff0, width=0.1, shader='mesh')\n",
    "\n",
    "plot += third_point + cyan_line\n",
    "plot.display()"
   ]
  },
  {
   "cell_type": "markdown",
   "metadata": {},
   "source": [
    "![cyanline](images/K3D-cyanline.png \"K3D plot with cyan line\")"
   ]
  },
  {
   "cell_type": "markdown",
   "metadata": {},
   "source": [
    "**- By updating specific attributes of existing object.**"
   ]
  },
  {
   "cell_type": "code",
   "execution_count": 16,
   "metadata": {},
   "outputs": [
    {
     "data": {
      "application/vnd.jupyter.widget-view+json": {
       "model_id": "6031c93ee7244fe8bce6eeac2865db4e",
       "version_major": 2,
       "version_minor": 0
      },
      "text/plain": [
       "Output()"
      ]
     },
     "metadata": {},
     "output_type": "display_data"
    }
   ],
   "source": [
    "line.color = 0xff0000\n",
    "line.width = 0.2\n",
    "line.shader = 'mesh'\n",
    "points.shader = 'mesh'\n",
    "plot.display()"
   ]
  },
  {
   "cell_type": "markdown",
   "metadata": {},
   "source": [
    "![redline](images/K3D-redline.png \"K3D plot with red line\")"
   ]
  },
  {
   "cell_type": "markdown",
   "metadata": {},
   "source": [
    "**6. Camera manipulation can be performed with mouse or touchpad actions.**\n",
    "\n",
    "**Put a cursor on the displayed plot.**\n",
    "\n",
    "**- Perform an action of scrolling to zoom in and zoom out the image.**\n",
    "\n",
    "**- Click and hold a left button, move a cursor to rotate the image.**\n",
    "\n",
    "**- Click and hold a right button, move a cursor to translate the image.**"
   ]
  },
  {
   "cell_type": "markdown",
   "metadata": {},
   "source": [
    "**7. Mesh is an object which can be seen as a plane with at least three vertices.**\n",
    "\n",
    "**Construct `mesh()` with passed `vertices` attribute and `indices` attribute indicating which vertices to connect.**\n",
    "\n",
    "**Add it to plot with `+=` operator.**"
   ]
  },
  {
   "cell_type": "code",
   "execution_count": 17,
   "metadata": {},
   "outputs": [
    {
     "data": {
      "application/vnd.jupyter.widget-view+json": {
       "model_id": "fa888cb3564b4a8da6870626e1ed1c26",
       "version_major": 2,
       "version_minor": 0
      },
      "text/plain": [
       "Output()"
      ]
     },
     "metadata": {},
     "output_type": "display_data"
    }
   ],
   "source": [
    "mesh = k3d.mesh(vertices=[[-1,-1,-1], [1,1,1], [2,-1,1]], indices=[0,1,2], color=0xffff00)\n",
    "\n",
    "plot += mesh\n",
    "plot.display()"
   ]
  },
  {
   "cell_type": "markdown",
   "metadata": {},
   "source": [
    "**8. To delete objects from plot use `-=` operator.**"
   ]
  },
  {
   "cell_type": "code",
   "execution_count": 18,
   "metadata": {},
   "outputs": [
    {
     "data": {
      "application/vnd.jupyter.widget-view+json": {
       "model_id": "46eb38111bbf48b8bb3aa43b19e7e1d9",
       "version_major": 2,
       "version_minor": 0
      },
      "text/plain": [
       "Output()"
      ]
     },
     "metadata": {},
     "output_type": "display_data"
    }
   ],
   "source": [
    "plot -= points + third_point + line + cyan_line\n",
    "plot.display()"
   ]
  },
  {
   "cell_type": "markdown",
   "metadata": {},
   "source": [
    "![mesh](images/K3D-mesh.png \"K3D plot with mesh\")"
   ]
  },
  {
   "cell_type": "code",
   "execution_count": null,
   "metadata": {},
   "outputs": [],
   "source": []
  }
 ],
 "metadata": {
  "kernelspec": {
   "display_name": "Python 3",
   "language": "python",
   "name": "python3"
  },
  "language_info": {
   "codemirror_mode": {
    "name": "ipython",
    "version": 3
   },
   "file_extension": ".py",
   "mimetype": "text/x-python",
   "name": "python",
   "nbconvert_exporter": "python",
   "pygments_lexer": "ipython3",
   "version": "3.6.6"
  }
 },
 "nbformat": 4,
 "nbformat_minor": 2
}
