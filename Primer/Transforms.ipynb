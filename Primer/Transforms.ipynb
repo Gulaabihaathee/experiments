{
 "cells": [
  {
   "cell_type": "markdown",
   "metadata": {},
   "source": [
    "### This notebook will answer the questions:\n",
    "\n",
    "---\n",
    "\n",
    "**1) How to perform `rotation` transform of `k3d` objects?**\n",
    "\n",
    "**2) How to perform `translation` of object?**\n",
    "\n",
    "**3) How to perform `scaling` of objects dimensions?**\n",
    "\n",
    "---\n",
    "\n"
   ]
  },
  {
   "cell_type": "markdown",
   "metadata": {},
   "source": [
    "**`Import` all neccessary libraries, especially `k3d`.**\n",
    "\n",
    "**Construct `plot()` and object.**\n",
    "\n",
    "**Add it to plot with `+=` operator and `display()`.**"
   ]
  },
  {
   "cell_type": "code",
   "execution_count": 2,
   "metadata": {},
   "outputs": [
    {
     "data": {
      "application/vnd.jupyter.widget-view+json": {
       "model_id": "128aacc5b57841789b8a09db5a0c446d",
       "version_major": 2,
       "version_minor": 0
      },
      "text/plain": [
       "Output()"
      ]
     },
     "metadata": {},
     "output_type": "display_data"
    }
   ],
   "source": [
    "import numpy as np\n",
    "import k3d\n",
    "from k3d.platonic import Dodecahedron, Cube\n",
    "\n",
    "\n",
    "plot = k3d.plot(grid=(-3,-3,-3,3,3,3), grid_auto_fit=False, camera_auto_fit=False)\n",
    "\n",
    "DodecahedronVertices, DodecahedronMesh = Dodecahedron().points, Dodecahedron().mesh\n",
    "plot += DodecahedronVertices + DodecahedronMesh\n",
    "plot.display()"
   ]
  },
  {
   "cell_type": "markdown",
   "metadata": {},
   "source": [
    "**1) Refer to `transform` attribute named `rotation` and set the value as a collection of four elements.**\n",
    "\n",
    "**First element indicates value of rotation angle and the three others defines the rotation vector.**"
   ]
  },
  {
   "cell_type": "code",
   "execution_count": 3,
   "metadata": {},
   "outputs": [
    {
     "data": {
      "application/vnd.jupyter.widget-view+json": {
       "model_id": "ee6c4864f90d4753aa03e433eb40c00a",
       "version_major": 2,
       "version_minor": 0
      },
      "text/plain": [
       "Output()"
      ]
     },
     "metadata": {},
     "output_type": "display_data"
    }
   ],
   "source": [
    "rotation_vector = k3d.vectors(origins=[0,0,0], vectors=[3, 0.3, 0], color=0xff0000, head_size=3, line_width=0.05)\n",
    "plot += rotation_vector\n",
    "\n",
    "plot.display()"
   ]
  },
  {
   "cell_type": "code",
   "execution_count": 4,
   "metadata": {},
   "outputs": [],
   "source": [
    "degrees = 45\n",
    "radians_from_degrees = degrees * np.pi/180\n",
    "DodecahedronMesh.transform.rotation = [radians_from_degrees, 3, 0.3, 0]"
   ]
  },
  {
   "cell_type": "markdown",
   "metadata": {},
   "source": [
    "**If you take your right hand's thumb**\n",
    "\n",
    "**and point the same direction as rotation vector with open palm,** \n",
    "\n",
    "**the rotation will be performed like other four fingers which close to fist.**"
   ]
  },
  {
   "cell_type": "code",
   "execution_count": 5,
   "metadata": {},
   "outputs": [],
   "source": [
    "DodecahedronVertices.transform.rotation = [radians_from_degrees, 30, 3, 0]"
   ]
  },
  {
   "cell_type": "markdown",
   "metadata": {},
   "source": [
    "**Only direction of rotation vector takes part in the transformation, not the norm of it.**"
   ]
  },
  {
   "cell_type": "markdown",
   "metadata": {},
   "source": [
    "**2) Refer to `transform` attribute named `translation` and set the value as a collection of three elements.**\n",
    "\n",
    "**Three elements are components of translation vector.**\n",
    "\n",
    "**Apply translation transform to move every point by a given tranlation vector.**"
   ]
  },
  {
   "cell_type": "code",
   "execution_count": 6,
   "metadata": {},
   "outputs": [
    {
     "data": {
      "application/vnd.jupyter.widget-view+json": {
       "model_id": "1e40612df2d047509010d61537f2d8f4",
       "version_major": 2,
       "version_minor": 0
      },
      "text/plain": [
       "Output()"
      ]
     },
     "metadata": {},
     "output_type": "display_data"
    }
   ],
   "source": [
    "DodecahedronVertices.transform.translation = [3, 0.3, 0]\n",
    "plot.display()"
   ]
  },
  {
   "cell_type": "code",
   "execution_count": 7,
   "metadata": {},
   "outputs": [],
   "source": [
    "DodecahedronMesh.transform.translation = [3, 0.3, 0]\n",
    "DodecahedronMesh.wireframe = True"
   ]
  },
  {
   "cell_type": "markdown",
   "metadata": {},
   "source": [
    "**The action of `scaling` will be presented on a simple cube object.**"
   ]
  },
  {
   "cell_type": "code",
   "execution_count": 8,
   "metadata": {
    "scrolled": true
   },
   "outputs": [
    {
     "data": {
      "application/vnd.jupyter.widget-view+json": {
       "model_id": "28e7ac2e97f3417d9e283fbedd4718a7",
       "version_major": 2,
       "version_minor": 0
      },
      "text/plain": [
       "Output()"
      ]
     },
     "metadata": {},
     "output_type": "display_data"
    }
   ],
   "source": [
    "plot = k3d.plot(grid=(-3,-3,-3,3,3,3), grid_auto_fit=False, camera_auto_fit=False)\n",
    "CubeVertices, CubeMesh = Cube().points, Cube().mesh\n",
    "\n",
    "plot += CubeVertices + CubeMesh\n",
    "plot.display()"
   ]
  },
  {
   "cell_type": "markdown",
   "metadata": {},
   "source": [
    "**3) Refer to `transform` attribute named `scaling` and set the value as a collection of three elements.**\n",
    "\n",
    "**The collection designates dimension scaling factors.** "
   ]
  },
  {
   "cell_type": "code",
   "execution_count": 9,
   "metadata": {},
   "outputs": [],
   "source": [
    "CubeVertices.transform.scaling = [2, 1, 1]"
   ]
  },
  {
   "cell_type": "code",
   "execution_count": 10,
   "metadata": {},
   "outputs": [],
   "source": [
    "CubeMesh.transform.scaling = [2, 1, 1]"
   ]
  },
  {
   "cell_type": "markdown",
   "metadata": {},
   "source": [
    "**The following line shows how to shrink all edges of the cube to a half of base value.**"
   ]
  },
  {
   "cell_type": "code",
   "execution_count": 11,
   "metadata": {},
   "outputs": [],
   "source": [
    "CubeVertices.transform.scaling, CubeMesh.transform.scaling = [0.5, 0.5, 0.5], [0.5, 0.5, 0.5]"
   ]
  },
  {
   "cell_type": "code",
   "execution_count": null,
   "metadata": {},
   "outputs": [],
   "source": []
  }
 ],
 "metadata": {
  "kernelspec": {
   "display_name": "Python 3",
   "language": "python",
   "name": "python3"
  },
  "language_info": {
   "codemirror_mode": {
    "name": "ipython",
    "version": 3
   },
   "file_extension": ".py",
   "mimetype": "text/x-python",
   "name": "python",
   "nbconvert_exporter": "python",
   "pygments_lexer": "ipython3",
   "version": "3.6.6"
  }
 },
 "nbformat": 4,
 "nbformat_minor": 2
}
