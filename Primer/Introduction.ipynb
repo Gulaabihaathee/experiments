{
 "cells": [
  {
   "cell_type": "markdown",
   "metadata": {},
   "source": [
    "### The notebook covers basic functionality of data visualization library `k3d`.\n",
    "\n",
    "During reading the notebook You will get answers for questions enumerated below:\n",
    "\n",
    "---\n",
    "**1. How to create a `plot()` and `display()` it?**\n",
    "\n",
    "**2. How to add `points()` to a plot?** \n",
    "\n",
    "**3. How to connect the points with a `line()`?**\n",
    "\n",
    "**4. What attributes does `k3d` objects have?**\n",
    "\n",
    "**5. How to change attributes of `k3d` objects?**\n",
    "\n",
    "**6. How to manipulate the orientation of camera?**\n",
    "\n",
    "**7. How to add `mesh()` object to a plot?**\n",
    "\n",
    "**8. How to subtract objects from plot?**\n",
    "\n",
    "**9. How to add text onto the plot?**\n",
    "\n",
    "---\n"
   ]
  },
  {
   "cell_type": "markdown",
   "metadata": {},
   "source": [
    "**1. To get access to `k3d` functionality, `import` it.**\n",
    "\n",
    "**Instantiate a `plot` object, using `plot()` constructor from `k3d` library.**\n",
    "\n",
    "**Call a _method_ on `plot` object to _`display()`_ it.**"
   ]
  },
  {
   "cell_type": "code",
   "execution_count": 1,
   "metadata": {},
   "outputs": [
    {
     "data": {
      "application/vnd.jupyter.widget-view+json": {
       "model_id": "4ed7bea6ef0147f697da4f8a19cbd4c0",
       "version_major": 2,
       "version_minor": 0
      },
      "text/plain": [
       "Output()"
      ]
     },
     "metadata": {},
     "output_type": "display_data"
    }
   ],
   "source": [
    "import k3d\n",
    "\n",
    "\n",
    "plot = k3d.plot()\n",
    "plot.display()"
   ]
  },
  {
   "cell_type": "markdown",
   "metadata": {},
   "source": [
    "Running notebook's cell above should results with:\n",
    "![Empty plot](images/K3D-plot.png \"Empty K3D plot\")"
   ]
  },
  {
   "cell_type": "markdown",
   "metadata": {},
   "source": [
    "**2. Instantiate `points` object using `points()` constructor with passed `positions` attribute, which indicates coordinates in space.**\n",
    "\n",
    "**Use `+=` operator to add `points` object to `plot`.**"
   ]
  },
  {
   "cell_type": "code",
   "execution_count": 2,
   "metadata": {},
   "outputs": [
    {
     "data": {
      "application/vnd.jupyter.widget-view+json": {
       "model_id": "a0e0b9f294c94db19b7e43fea623146d",
       "version_major": 2,
       "version_minor": 0
      },
      "text/plain": [
       "Output()"
      ]
     },
     "metadata": {},
     "output_type": "display_data"
    }
   ],
   "source": [
    "points = k3d.points( positions=[[-1, -1, -1], [1, 1, 1]] )\n",
    "plot += points\n",
    "\n",
    "plot.display()"
   ]
  },
  {
   "cell_type": "markdown",
   "metadata": {},
   "source": [
    "The displayed plot should look like this presented below:\n",
    "![points](images/K3D-points.png \"K3D plot with points\")\n",
    "Scroll up notebook to the first displayed plot located at the end of **1.** point and notice that the blue objects were added."
   ]
  },
  {
   "cell_type": "markdown",
   "metadata": {},
   "source": [
    "**3. Instantiate `line` object with `line()` constructor with passed `vertices` attribute, which indicates points where it starts and ends.**\n",
    "\n",
    "**Add line to a plot with `+=` operator.**"
   ]
  },
  {
   "cell_type": "code",
   "execution_count": 3,
   "metadata": {},
   "outputs": [
    {
     "data": {
      "application/vnd.jupyter.widget-view+json": {
       "model_id": "2382978323ba4fe69015ca0ba48e42b9",
       "version_major": 2,
       "version_minor": 0
      },
      "text/plain": [
       "Output()"
      ]
     },
     "metadata": {},
     "output_type": "display_data"
    }
   ],
   "source": [
    "line = k3d.line( vertices=points.positions )\n",
    "plot += line\n",
    "\n",
    "plot.display()"
   ]
  },
  {
   "cell_type": "markdown",
   "metadata": {},
   "source": [
    "The displayed plot should look like this presented below:\n",
    "![line](images/K3D-line.png \"K3D plot with points and line\")"
   ]
  },
  {
   "cell_type": "markdown",
   "metadata": {},
   "source": [
    " **4. Command below returns attributes of points object.**"
   ]
  },
  {
   "cell_type": "code",
   "execution_count": 4,
   "metadata": {},
   "outputs": [
    {
     "data": {
      "text/plain": [
       "{'_model_module': 'k3d',\n",
       " '_model_module_version': '^3.0.0',\n",
       " '_model_name': 'ObjectModel',\n",
       " '_view_count': None,\n",
       " '_view_module': None,\n",
       " '_view_module_version': '',\n",
       " '_view_name': None,\n",
       " 'color': 255,\n",
       " 'compression_level': 0,\n",
       " 'id': 140019254305176,\n",
       " 'radial_segments': 8,\n",
       " 'shader': 'thick',\n",
       " 'type': 'Line',\n",
       " 'visible': True,\n",
       " 'width': 0.01,\n",
       " 'comm': <ipykernel.comm.comm.Comm at 0x7f58c5ea2438>,\n",
       " 'vertices': array([[-1., -1., -1.],\n",
       "        [ 1.,  1.,  1.]], dtype=float32),\n",
       " 'colors': array([], dtype=uint32),\n",
       " 'attribute': array([], dtype=float32),\n",
       " 'color_map': array([], dtype=float32),\n",
       " 'color_range': [],\n",
       " 'keys': ['_model_module',\n",
       "  '_model_module_version',\n",
       "  '_model_name',\n",
       "  '_view_count',\n",
       "  '_view_module',\n",
       "  '_view_module_version',\n",
       "  '_view_name',\n",
       "  'attribute',\n",
       "  'color',\n",
       "  'color_map',\n",
       "  'color_range',\n",
       "  'colors',\n",
       "  'compression_level',\n",
       "  'id',\n",
       "  'model_matrix',\n",
       "  'radial_segments',\n",
       "  'shader',\n",
       "  'type',\n",
       "  'vertices',\n",
       "  'visible',\n",
       "  'width'],\n",
       " 'model_matrix': array([[1., 0., 0., 0.],\n",
       "        [0., 1., 0., 0.],\n",
       "        [0., 0., 1., 0.],\n",
       "        [0., 0., 0., 1.]], dtype=float32),\n",
       " '_property_lock': {}}"
      ]
     },
     "execution_count": 4,
     "metadata": {},
     "output_type": "execute_result"
    }
   ],
   "source": [
    "line.__dict__['_trait_values']"
   ]
  },
  {
   "cell_type": "markdown",
   "metadata": {},
   "source": [
    "**5. There are two basic ways of setting the object attributes:**\n",
    "\n",
    "**- By passing attributes values while constructing an object.**"
   ]
  },
  {
   "cell_type": "code",
   "execution_count": 5,
   "metadata": {},
   "outputs": [
    {
     "data": {
      "application/vnd.jupyter.widget-view+json": {
       "model_id": "ab3e13e55d8140aca8bbcf3605143f5d",
       "version_major": 2,
       "version_minor": 0
      },
      "text/plain": [
       "Output()"
      ]
     },
     "metadata": {},
     "output_type": "display_data"
    }
   ],
   "source": [
    "third_point = k3d.points(positions=[2,-1,1], point_size=0.6, color=0x00ff00, shader='mesh')\n",
    "cyan_line = k3d.line(vertices=[[-1,-1,-1], [2,-1,1], [1,1,1]], color=0x00fff0, width=0.1, shader='mesh')\n",
    "\n",
    "plot += third_point + cyan_line\n",
    "plot.display()"
   ]
  },
  {
   "cell_type": "markdown",
   "metadata": {},
   "source": [
    "![cyanline](images/K3D-cyanline.png \"K3D plot with cyan line\")"
   ]
  },
  {
   "cell_type": "markdown",
   "metadata": {},
   "source": [
    "**- By updating specific attributes of existing object.**"
   ]
  },
  {
   "cell_type": "code",
   "execution_count": 6,
   "metadata": {},
   "outputs": [
    {
     "data": {
      "application/vnd.jupyter.widget-view+json": {
       "model_id": "9b62f9df02e14983b7c4b600efbaeff8",
       "version_major": 2,
       "version_minor": 0
      },
      "text/plain": [
       "Output()"
      ]
     },
     "metadata": {},
     "output_type": "display_data"
    }
   ],
   "source": [
    "line.color = 0xff0000\n",
    "line.width = 0.2\n",
    "line.shader = 'mesh'\n",
    "points.shader = 'mesh'\n",
    "plot.display()"
   ]
  },
  {
   "cell_type": "markdown",
   "metadata": {},
   "source": [
    "![redline](images/K3D-redline.png \"K3D plot with red line\")"
   ]
  },
  {
   "cell_type": "markdown",
   "metadata": {},
   "source": [
    "**6. Camera manipulation can be performed with mouse or touchpad actions.**\n",
    "\n",
    "**Put a cursor on the displayed plot.**\n",
    "\n",
    "**- Perform an action of scrolling to zoom in and zoom out the image.**\n",
    "\n",
    "**- Click and hold a left button, move a cursor to rotate the image.**\n",
    "\n",
    "**- Click and hold a right button, move a cursor to translate the image.**"
   ]
  },
  {
   "cell_type": "markdown",
   "metadata": {},
   "source": [
    "**7. Mesh is an object which can be seen as a plane with at least three vertices.**\n",
    "\n",
    "**Construct `mesh()` with passed `vertices` attribute and `indices` attribute indicating which vertices to connect.**\n",
    "\n",
    "**Add it to plot with `+=` operator.**"
   ]
  },
  {
   "cell_type": "code",
   "execution_count": 7,
   "metadata": {},
   "outputs": [
    {
     "data": {
      "application/vnd.jupyter.widget-view+json": {
       "model_id": "cb9aed2da65b4191ad759d756a60b33b",
       "version_major": 2,
       "version_minor": 0
      },
      "text/plain": [
       "Output()"
      ]
     },
     "metadata": {},
     "output_type": "display_data"
    }
   ],
   "source": [
    "mesh = k3d.mesh(vertices=[[-1,-1,-1], [1,1,1], [2,-1,1]], indices=[0,1,2], color=0xffff00)\n",
    "\n",
    "plot += mesh\n",
    "plot.display()"
   ]
  },
  {
   "cell_type": "markdown",
   "metadata": {},
   "source": [
    "**8. To delete objects from plot use `-=` operator.**"
   ]
  },
  {
   "cell_type": "code",
   "execution_count": 8,
   "metadata": {},
   "outputs": [
    {
     "data": {
      "application/vnd.jupyter.widget-view+json": {
       "model_id": "1d6b4e80dc21416f877a5b9403b4db37",
       "version_major": 2,
       "version_minor": 0
      },
      "text/plain": [
       "Output()"
      ]
     },
     "metadata": {},
     "output_type": "display_data"
    }
   ],
   "source": [
    "plot -= points + third_point + line + cyan_line\n",
    "plot.display()"
   ]
  },
  {
   "cell_type": "markdown",
   "metadata": {},
   "source": [
    "![mesh](images/K3D-mesh.png \"K3D plot with mesh\")"
   ]
  },
  {
   "cell_type": "code",
   "execution_count": 9,
   "metadata": {},
   "outputs": [],
   "source": [
    "plot -= mesh\n",
    "plot.camera_auto_fit = False\n",
    "plot.grid_auto_fit = False"
   ]
  },
  {
   "cell_type": "markdown",
   "metadata": {},
   "source": [
    "**9. There are several ways of inserting a text onto the plot:**\n",
    "\n",
    "- Sticker-like *text2d* object which takes two positional coordinates\n",
    "- *text*, *texture_text* objects which can be putted in specific point space"
   ]
  },
  {
   "cell_type": "code",
   "execution_count": 10,
   "metadata": {},
   "outputs": [
    {
     "data": {
      "application/vnd.jupyter.widget-view+json": {
       "model_id": "61459eac2d0b488784017a4cf2a3d2bc",
       "version_major": 2,
       "version_minor": 0
      },
      "text/plain": [
       "Output()"
      ]
     },
     "metadata": {},
     "output_type": "display_data"
    }
   ],
   "source": [
    "text = k3d.text('text', position=[1, 1, 1], color=0x00ff00, size=2)\n",
    "text2d = k3d.text2d('tEXt2D', position=[0.0, 0.0], color=0x0000ff, size=2)\n",
    "texture_text = k3d.texture_text('texture_tEXt', position=[0, 0, 0], font_face='Calibri', color=255, size=4)\n",
    "\n",
    "plot += text + text2d + texture_text\n",
    "plot.display()"
   ]
  },
  {
   "cell_type": "code",
   "execution_count": 12,
   "metadata": {},
   "outputs": [],
   "source": [
    "# It is possible to insert Latex code inside the text attribute:\n",
    "text.text = '{(1,1,\\\\frac{\\pi}{\\\\pi})}'"
   ]
  },
  {
   "cell_type": "code",
   "execution_count": null,
   "metadata": {},
   "outputs": [],
   "source": []
  },
  {
   "cell_type": "code",
   "execution_count": null,
   "metadata": {},
   "outputs": [],
   "source": []
  },
  {
   "cell_type": "code",
   "execution_count": null,
   "metadata": {},
   "outputs": [],
   "source": []
  }
 ],
 "metadata": {
  "kernelspec": {
   "display_name": "Python 3",
   "language": "python",
   "name": "python3"
  },
  "language_info": {
   "codemirror_mode": {
    "name": "ipython",
    "version": 3
   },
   "file_extension": ".py",
   "mimetype": "text/x-python",
   "name": "python",
   "nbconvert_exporter": "python",
   "pygments_lexer": "ipython3",
   "version": "3.6.6"
  }
 },
 "nbformat": 4,
 "nbformat_minor": 2
}
