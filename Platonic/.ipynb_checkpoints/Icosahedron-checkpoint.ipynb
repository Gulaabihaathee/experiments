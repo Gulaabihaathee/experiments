{
 "cells": [
  {
   "cell_type": "code",
   "execution_count": 1,
   "metadata": {},
   "outputs": [],
   "source": [
    "import numpy as np\n",
    "import k3d"
   ]
  },
  {
   "cell_type": "code",
   "execution_count": 2,
   "metadata": {},
   "outputs": [
    {
     "data": {
      "application/vnd.jupyter.widget-view+json": {
       "model_id": "736582ce32a34e2bb0d6e37a65cb48d3",
       "version_major": 2,
       "version_minor": 0
      },
      "text/plain": [
       "Output()"
      ]
     },
     "metadata": {},
     "output_type": "display_data"
    }
   ],
   "source": [
    "plot = k3d.plot()\n",
    "plot.display()"
   ]
  },
  {
   "cell_type": "code",
   "execution_count": 3,
   "metadata": {},
   "outputs": [],
   "source": [
    "fi = (1 + np.sqrt(5))/2\n",
    "golden_rectangles = k3d.points([(1,fi,0), (1,-fi,0), (-1,fi,0), (-1,-fi,0),\n",
    "                                   (fi,0,1), (fi,0,-1), (-fi,0,1), (-fi,0,-1),\n",
    "                                   (0,1,fi), (0,1,-fi), (0,-1,fi), (0,-1,-fi)],\n",
    "                                  point_size=0.1)\n",
    "\n",
    "\n",
    "plot += golden_rectangles"
   ]
  },
  {
   "cell_type": "code",
   "execution_count": 4,
   "metadata": {},
   "outputs": [],
   "source": [
    "for i, vertex_position in enumerate(golden_rectangles.positions):\n",
    "    plot += k3d.text(text=str(i), position=vertex_position+np.array([0.1,0.1,0.1]), color=0)"
   ]
  },
  {
   "cell_type": "code",
   "execution_count": 7,
   "metadata": {},
   "outputs": [],
   "source": [
    "icosahedron = k3d.mesh(golden_rectangles.positions, indices=[0,2,8, 0,4,8, 0,2,9, 0,5,9, 2,6,8,\n",
    "                                                             2,7,9, 2,6,7, 0,4,5, 1,4,5, 1,5,11,\n",
    "                                                             7,9,11, 3,7,11, 3,6,7, 3,6,10, 4,8,10,\n",
    "                                                            6,8,10, 1,4,10, 1,3,11, 1,3,10, 5,9,11])\n",
    "plot += icosahedron"
   ]
  },
  {
   "cell_type": "code",
   "execution_count": null,
   "metadata": {},
   "outputs": [],
   "source": []
  }
 ],
 "metadata": {
  "kernelspec": {
   "display_name": "Python 3",
   "language": "python",
   "name": "python3"
  },
  "language_info": {
   "codemirror_mode": {
    "name": "ipython",
    "version": 3
   },
   "file_extension": ".py",
   "mimetype": "text/x-python",
   "name": "python",
   "nbconvert_exporter": "python",
   "pygments_lexer": "ipython3",
   "version": "3.6.6"
  }
 },
 "nbformat": 4,
 "nbformat_minor": 2
}
