{
 "cells": [
  {
   "cell_type": "code",
   "execution_count": 1,
   "metadata": {},
   "outputs": [],
   "source": [
    "import numpy as np\n",
    "from itertools import product\n",
    "import k3d"
   ]
  },
  {
   "cell_type": "code",
   "execution_count": 2,
   "metadata": {},
   "outputs": [
    {
     "data": {
      "application/vnd.jupyter.widget-view+json": {
       "model_id": "e421e24d5ba14c1eabab9a7f6f948a66",
       "version_major": 2,
       "version_minor": 0
      },
      "text/plain": [
       "Output()"
      ]
     },
     "metadata": {},
     "output_type": "display_data"
    }
   ],
   "source": [
    "plot = k3d.plot()\n",
    "plot.display()"
   ]
  },
  {
   "cell_type": "code",
   "execution_count": 3,
   "metadata": {},
   "outputs": [],
   "source": [
    "fi = (1 + np.sqrt(5))/2\n",
    "dodecahedron_vertices = list(product([-1,1],[-1,1],[-1,1])) \n",
    "dodecahedron_vertices += [(0,fi,1/fi),(0,-fi,1/fi),(0,-fi,-1/fi),(0,fi,-1/fi),\n",
    "           (1/fi,0,fi),(-1/fi,0,fi),(-1/fi,0,-fi),(1/fi,0,-fi),\n",
    "           (fi,1/fi,0),(-fi,1/fi,0),(-fi,-1/fi,0),(fi,-1/fi,0)]\n",
    "\n",
    "dodecahedron_vertices = k3d.points(dodecahedron_vertices, point_size=0.1)\n",
    "plot += dodecahedron_vertices"
   ]
  },
  {
   "cell_type": "code",
   "execution_count": 4,
   "metadata": {},
   "outputs": [],
   "source": [
    "for i, vertex_position in enumerate(dodecahedron_vertices.positions):\n",
    "    plot += k3d.text(text=str(i), position=vertex_position+np.array([0.1,0.1,0.1]), color=0)"
   ]
  },
  {
   "cell_type": "code",
   "execution_count": 5,
   "metadata": {},
   "outputs": [],
   "source": [
    "indices = [0,1,18, 0,1,10, 1,9,10, 0,10,14, 10,14,15, 4,10,15, 4,9,10, 4,5,9, 4,5,19, 4,15,19, 6,15,19, 6,16,19,\n",
    "           6,7,16, 6,7,8, 6,8,11, 2,3,17, 2,3,8, 2,8,11, 1,3,13, 1,3,18,  3,17,18, 1,9,13, 9,12,13, 5,9,12,\n",
    "           5,12,19, 12,16,19, 7,12,16, 3,7,8, 3,7,12, 3,12,13, 14,6,15, 14,6,11, 2,11,14, 0,17,18, 0,2,17, 0,2,14]\n",
    "\n",
    "dodecahedron_mesh = k3d.mesh(dodecahedron_vertices.positions, indices=indices)\n",
    "plot += dodecahedron_mesh"
   ]
  },
  {
   "cell_type": "code",
   "execution_count": null,
   "metadata": {},
   "outputs": [],
   "source": []
  }
 ],
 "metadata": {
  "kernelspec": {
   "display_name": "Python 3",
   "language": "python",
   "name": "python3"
  },
  "language_info": {
   "codemirror_mode": {
    "name": "ipython",
    "version": 3
   },
   "file_extension": ".py",
   "mimetype": "text/x-python",
   "name": "python",
   "nbconvert_exporter": "python",
   "pygments_lexer": "ipython3",
   "version": "3.6.6"
  }
 },
 "nbformat": 4,
 "nbformat_minor": 2
}
