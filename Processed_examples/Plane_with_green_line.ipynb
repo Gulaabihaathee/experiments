{
 "cells": [
  {
   "cell_type": "markdown",
   "metadata": {},
   "source": [
    "http://sagecell.sagemath.org/?q=pcefhm"
   ]
  },
  {
   "cell_type": "code",
   "execution_count": 4,
   "metadata": {},
   "outputs": [
    {
     "data": {
      "application/vnd.jupyter.widget-view+json": {
       "model_id": "119391a022d44f0d9ed67f0c05d31191",
       "version_major": 2,
       "version_minor": 0
      },
      "text/plain": [
       "Output()"
      ]
     },
     "metadata": {},
     "output_type": "display_data"
    }
   ],
   "source": [
    "import numpy as np\n",
    "import k3d\n",
    "from matplotlib.tri import Triangulation\n",
    "\n",
    "\n",
    "def p(x, b, c):\n",
    "    return -x**3+c*x+b \n",
    "\n",
    "x = np.linspace(-0.815, 0.815, 100, dtype=np.float32)\n",
    "\n",
    "plot = k3d.plot()\n",
    "green_line = k3d.line(np.stack([3*x**2, x, -2*x**3]).T, shader='mesh', color=0x00ff00, width=0.03)\n",
    "\n",
    "\n",
    "b = np.linspace(-2, 2, 100, dtype=np.float32)\n",
    "c = np.linspace(-2, 2, 100, dtype=np.float32)\n",
    "x = np.linspace(-2, 2, 100, dtype=np.float32)\n",
    "x, b, c = np.meshgrid(x, b, c)\n",
    "\n",
    "plane = k3d.marching_cubes(p(x, b, c), level=0.0, scaling=[4,4,4])\n",
    "plot += plane + green_line\n",
    "\n",
    "plot.display()"
   ]
  },
  {
   "cell_type": "code",
   "execution_count": 5,
   "metadata": {},
   "outputs": [
    {
     "data": {
      "application/vnd.jupyter.widget-view+json": {
       "model_id": "5383b515f53d4d80badb99bce39a9601",
       "version_major": 2,
       "version_minor": 0
      },
      "text/plain": [
       "Output()"
      ]
     },
     "metadata": {},
     "output_type": "display_data"
    }
   ],
   "source": [
    "plot1 = k3d.plot()\n",
    "\n",
    "c = np.linspace(-2, 2, 100, dtype=np.float32)\n",
    "x = np.linspace(-1, 1, 100, dtype=np.float32)\n",
    "x, c = np.meshgrid(x, c)\n",
    "x, c = np.ravel(x), np.ravel(c)\n",
    "\n",
    "tr = Triangulation(x,c)\n",
    "\n",
    "def b(x,c): \n",
    "    return x**3 - c*x \n",
    "\n",
    "mesh = k3d.mesh(np.stack([c, x, b(x,c)]).T, tr.triangles.astype(np.uint32))\n",
    "\n",
    "c = np.ones(100, dtype=np.float32)\n",
    "x = np.linspace(-1, 1, 100, dtype=np.float32)\n",
    "\n",
    "line1 = k3d.line(np.stack([c, x, b(x,c)]).T, shader='mesh', width=0.03, color=0xff0000)\n",
    "\n",
    "c = np.zeros(100, dtype=np.float32)\n",
    "line2 = k3d.line(np.stack([c, x, b(x,c)]).T, shader='mesh', width=0.03, color=0xff0000) \n",
    "\n",
    "c = -np.ones(100, dtype=np.float32)\n",
    "line3 = k3d.line(np.stack([c, x, b(x,c)]).T, shader='mesh', width=0.03, color=0xff0000) \n",
    "\n",
    "plot1 += mesh + green_line +line1 + line2 + line3\n",
    "plot1.display()"
   ]
  },
  {
   "cell_type": "code",
   "execution_count": 3,
   "metadata": {},
   "outputs": [],
   "source": []
  },
  {
   "cell_type": "code",
   "execution_count": null,
   "metadata": {},
   "outputs": [],
   "source": []
  }
 ],
 "metadata": {
  "kernelspec": {
   "display_name": "Python 3",
   "language": "python",
   "name": "python3"
  },
  "language_info": {
   "codemirror_mode": {
    "name": "ipython",
    "version": 3
   },
   "file_extension": ".py",
   "mimetype": "text/x-python",
   "name": "python",
   "nbconvert_exporter": "python",
   "pygments_lexer": "ipython3",
   "version": "3.6.6"
  }
 },
 "nbformat": 4,
 "nbformat_minor": 2
}
