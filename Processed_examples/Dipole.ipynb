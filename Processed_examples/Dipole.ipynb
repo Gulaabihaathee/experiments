{
 "cells": [
  {
   "cell_type": "markdown",
   "metadata": {},
   "source": [
    "https://scipython.com/blog/visualizing-a-vector-field-with-matplotlib/"
   ]
  },
  {
   "cell_type": "code",
   "execution_count": 10,
   "metadata": {},
   "outputs": [],
   "source": [
    "import numpy as np\n",
    "import k3d"
   ]
  },
  {
   "cell_type": "code",
   "execution_count": 11,
   "metadata": {},
   "outputs": [],
   "source": [
    "def E(q, r0, x, y, z):\n",
    "    \"\"\"Return the electric field vector E=(Ex,Ey,Ez) due to charge q at r0.\"\"\"\n",
    "    den = np.hypot(x-r0[0], y-r0[1], z-r0[2])**3\n",
    "    return q * (x - r0[0]) / den, q * (y - r0[1]) / den, q * (z - r0[2]) / den\n",
    "\n",
    "# Grid of x, y points\n",
    "nx, ny, nz = 20, 20, 1\n",
    "x = np.linspace(-2, 2, nx, dtype=np.float32)\n",
    "y = np.linspace(-2, 2, ny, dtype=np.float32)\n",
    "z = np.linspace(-0, 2, nz, dtype=np.float32)\n",
    "X, Y, Z = np.meshgrid(x, y, z)\n",
    "\n",
    "charges = [(-1, (1.0, 0.0, 0)), (1, (-1.0, 0.0, 0))]\n",
    "    \n",
    "# Electric field vector, E=(Ex, Ey, Ez), as separate components\n",
    "Ex, Ey, Ez = np.zeros((ny, nx, nz)), np.zeros((ny, nx, nz)), np.zeros((ny, nx, nz))\n",
    "for charge in charges:\n",
    "    ex, ey, ez = E(*charge, x=X, y=Y, z=Z)\n",
    "    Ex += ex\n",
    "    Ey += ey\n",
    "    Ez += ez\n",
    "\n",
    "Ex, Ey, Ez = np.ravel(Ex), np.ravel(Ey), np.ravel(Ez)\n",
    "efield = np.stack([Ex, Ey, Ez]).T\n",
    "efield /= np.stack([np.linalg.norm(efield, axis=1)]).T * 6\n",
    "efield = np.float32(efield)\n",
    "\n",
    "X, Y, Z = np.ravel(X), np.ravel(Y), np.ravel(Z)  "
   ]
  },
  {
   "cell_type": "code",
   "execution_count": 12,
   "metadata": {
    "scrolled": true
   },
   "outputs": [],
   "source": [
    "positive_charge = k3d.points([charges[1][1]], color=0xff0000 , point_size=0.1)\n",
    "negative_charge = k3d.points([charges[0][1]], color=0x0000ff , point_size=0.1)\n",
    "electric_field  = k3d.vectors(np.stack([X, Y, Z]).T, efield, head_size=0.5)"
   ]
  },
  {
   "cell_type": "code",
   "execution_count": 13,
   "metadata": {},
   "outputs": [
    {
     "data": {
      "application/vnd.jupyter.widget-view+json": {
       "model_id": "77098f680f834b7eb3fa5f450c597e52",
       "version_major": 2,
       "version_minor": 0
      },
      "text/plain": [
       "Output()"
      ]
     },
     "metadata": {},
     "output_type": "display_data"
    }
   ],
   "source": [
    "negative_charge + positive_charge + electric_field"
   ]
  },
  {
   "cell_type": "code",
   "execution_count": 14,
   "metadata": {},
   "outputs": [
    {
     "data": {
      "application/vnd.jupyter.widget-view+json": {
       "model_id": "5c797fcf09a34107bdde39f10eac271f",
       "version_major": 2,
       "version_minor": 0
      },
      "text/plain": [
       "Output()"
      ]
     },
     "metadata": {},
     "output_type": "display_data"
    }
   ],
   "source": [
    "ntc = 70\n",
    "\n",
    "test_charges = []\n",
    "for i in range(ntc):\n",
    "    test_charges.append([np.cos(2*np.pi*i/ntc), np.sin(2*np.pi*i/ntc),0])\n",
    "test_charges = np.array(test_charges)\n",
    "\n",
    "#test_charges = np.random.uniform(-1,1, size=(ntc,3))  \n",
    "#test_charges[:,2] *= 0\n",
    "\n",
    "test_charges /= np.stack([np.linalg.norm(test_charges, axis=1)]).T * 10\n",
    "test_charges = np.float32(test_charges)\n",
    "\n",
    "plot = k3d.plot(camera_auto_fit=False, grid_auto_fit=False)\n",
    "pcharges = k3d.points(test_charges+positive_charge.positions, color=0x00ff00, point_size=0.05)\n",
    "ncharges = k3d.points(-1*test_charges+negative_charge.positions, color=0x00ffff, point_size=0.05)\n",
    "\n",
    "plot += negative_charge + positive_charge + electric_field #+ pcharges + ncharges\n",
    "plot.display()"
   ]
  },
  {
   "cell_type": "code",
   "execution_count": 15,
   "metadata": {},
   "outputs": [],
   "source": [
    "pX, pY, pZ = pcharges.positions[:,0], pcharges.positions[:,1], pcharges.positions[:,2]\n",
    "nX, nY, nZ = ncharges.positions[:,0], ncharges.positions[:,1], ncharges.positions[:,2]\n",
    "\n",
    "ptrajectories, ntrajectories = [], []\n",
    "for i in range(ntc):\n",
    "    ptrajectories.append([])\n",
    "    ntrajectories.append([])\n",
    "\n",
    "for t in range(600):\n",
    "    pEx, pEy, pEz = np.zeros(ntc), np.zeros(ntc), np.zeros(ntc)\n",
    "    nEx, nEy, nEz = np.zeros(ntc), np.zeros(ntc), np.zeros(ntc)\n",
    "    for charge in charges:\n",
    "        pex, pey, pez = E(*charge, x=pX, y=pY, z=pZ)\n",
    "        nex, ney, nez = E(*charge, x=nX, y=nY, z=nZ)\n",
    "        pEx += pex\n",
    "        pEy += pey\n",
    "        pEz += pez\n",
    "        nEx -= nex\n",
    "        nEy -= ney\n",
    "        nEz -= nez\n",
    "        \n",
    "    dt = np.float32(t/10000)\n",
    "    pE = np.float32(np.vstack([pEx, pEy, pEz]).T)\n",
    "    nE = np.float32(np.vstack([nEx, nEy, nEz]).T)\n",
    "    \n",
    "    pcharges.positions = pcharges.positions + pE*dt\n",
    "    pX, pY, pZ = pcharges.positions[:,0], pcharges.positions[:,1], pcharges.positions[:,2]\n",
    "    ncharges.positions = ncharges.positions + nE*dt\n",
    "    nX, nY, nZ = ncharges.positions[:,0], ncharges.positions[:,1], ncharges.positions[:,2]\n",
    "    \n",
    "    p = np.vstack([pX,pY,pZ]).T\n",
    "    n = np.vstack([nX,nY,nZ]).T\n",
    "    for i in range(ntc):\n",
    "        ptrajectories[i].append(p[i])\n",
    "        ntrajectories[i].append(n[i])"
   ]
  },
  {
   "cell_type": "code",
   "execution_count": 16,
   "metadata": {},
   "outputs": [],
   "source": [
    "ptrajectories = np.array(ptrajectories)\n",
    "ptrajectories = list(ptrajectories)\n",
    "\n",
    "ntrajectories = np.array(ntrajectories)\n",
    "ntrajectories = list(ntrajectories)"
   ]
  },
  {
   "cell_type": "code",
   "execution_count": 17,
   "metadata": {
    "scrolled": false
   },
   "outputs": [],
   "source": [
    "for i in range(ntc):\n",
    "    cond1 = (np.sum(ptrajectories[i] < np.array([2.0, 2.0, 2.0]), axis=1)//3).astype(np.bool)\n",
    "    cond2 = (np.sum(ptrajectories[i] > np.array([-2.0, -2.0, -2.0]), axis=1)//3).astype(np.bool)\n",
    "    square_cond = cond1 & cond2\n",
    "    try:\n",
    "        border = np.where(square_cond == False)[0][0]\n",
    "    except IndexError:\n",
    "        border = None\n",
    "    ptrajectories[i] = ptrajectories[i][:border]\n",
    "    \n",
    "    neg_area_cond = np.sqrt(np.sum((ptrajectories[i] - negative_charge.positions)**2, axis=1)) > 0.25\n",
    "    try:\n",
    "        border = np.where(neg_area_cond == False)[0][0]\n",
    "    except IndexError:\n",
    "        border = None\n",
    "\n",
    "    ptrajectories[i] = ptrajectories[i][:border]\n",
    "    \n",
    "    cond1 = (np.sum(ntrajectories[i] < np.array([2.0, 2.0, 2.0]), axis=1)//3).astype(np.bool)\n",
    "    cond2 = (np.sum(ntrajectories[i] > np.array([-2.0, -2.0, -2.0]), axis=1)//3).astype(np.bool)\n",
    "    square_cond = cond1 & cond2\n",
    "    try:\n",
    "        border = np.where(square_cond == False)[0][0]\n",
    "    except IndexError:\n",
    "        border = None\n",
    "    ntrajectories[i] = ntrajectories[i][:border]\n",
    "    \n",
    "    pos_area_cond = np.sqrt(np.sum((ntrajectories[i] - positive_charge.positions)**2, axis=1)) > 0.25\n",
    "    try:\n",
    "        border = np.where(pos_area_cond == False)[0][0]\n",
    "    except IndexError:\n",
    "        border = None\n",
    "\n",
    "    ntrajectories[i] = ntrajectories[i][:border]"
   ]
  },
  {
   "cell_type": "code",
   "execution_count": 18,
   "metadata": {},
   "outputs": [],
   "source": [
    "for i in range(ntc):\n",
    "    plot += k3d.line(ptrajectories[i], shader='simple', color=0x000000)\n",
    "    plot += k3d.line(ntrajectories[i], shader='simple', color=0x00000)"
   ]
  },
  {
   "cell_type": "code",
   "execution_count": null,
   "metadata": {},
   "outputs": [],
   "source": []
  },
  {
   "cell_type": "code",
   "execution_count": null,
   "metadata": {},
   "outputs": [],
   "source": []
  },
  {
   "cell_type": "code",
   "execution_count": null,
   "metadata": {},
   "outputs": [],
   "source": []
  }
 ],
 "metadata": {
  "kernelspec": {
   "display_name": "Python 3",
   "language": "python",
   "name": "python3"
  },
  "language_info": {
   "codemirror_mode": {
    "name": "ipython",
    "version": 3
   },
   "file_extension": ".py",
   "mimetype": "text/x-python",
   "name": "python",
   "nbconvert_exporter": "python",
   "pygments_lexer": "ipython3",
   "version": "3.6.6"
  }
 },
 "nbformat": 4,
 "nbformat_minor": 2
}
