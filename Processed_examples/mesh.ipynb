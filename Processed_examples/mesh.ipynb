{
 "cells": [
  {
   "cell_type": "code",
   "execution_count": 1,
   "metadata": {},
   "outputs": [
    {
     "data": {
      "application/vnd.jupyter.widget-view+json": {
       "model_id": "f73020b5137645baa8d096a91386906c",
       "version_major": 2,
       "version_minor": 0
      },
      "text/plain": [
       "interactive(children=(Dropdown(description='Basic ColorMap:', options=('Binary', 'BlackBodyRadiation', 'Blues'…"
      ]
     },
     "metadata": {},
     "output_type": "display_data"
    },
    {
     "data": {
      "application/vnd.jupyter.widget-view+json": {
       "model_id": "78d6730a554944b691c9bb471ff220ad",
       "version_major": 2,
       "version_minor": 0
      },
      "text/plain": [
       "interactive(children=(Dropdown(description='ParaView ColorMap:', options=('Asymmtrical_Earth_Tones_6_two_1b', …"
      ]
     },
     "metadata": {},
     "output_type": "display_data"
    },
    {
     "data": {
      "application/vnd.jupyter.widget-view+json": {
       "model_id": "fa70a6cac8054c10a423daa83c2cf0bf",
       "version_major": 2,
       "version_minor": 0
      },
      "text/plain": [
       "interactive(children=(Dropdown(description='MatplolLib ColorMap:', options=('Accent', 'Autumn', 'Binary', 'Blu…"
      ]
     },
     "metadata": {},
     "output_type": "display_data"
    },
    {
     "data": {
      "application/vnd.jupyter.widget-view+json": {
       "model_id": "e4acae6c1f6442d9b9f3078f8c6fcee1",
       "version_major": 2,
       "version_minor": 0
      },
      "text/plain": [
       "Output()"
      ]
     },
     "metadata": {},
     "output_type": "display_data"
    }
   ],
   "source": [
    "import numpy as np\n",
    "import k3d\n",
    "from ipywidgets import widgets, interact\n",
    "\n",
    "# Spatial coordinates of points\n",
    "vertices = [ [-10, 0, -1], [10, 0, -1], [10, 0, 1], [-10, 0, 1] ]\n",
    "# Triangles spreaded on points\n",
    "indices = [ [0, 1, 3], [1, 2, 3] ]\n",
    "# Indicate how to spread colors on mesh object\n",
    "vertex_attribute = [0, 1, 1, 0]\n",
    "\n",
    "# Specified object creation\n",
    "mesh = k3d.mesh(vertices, indices, attribute=vertex_attribute, \n",
    "                color_map=k3d.basic_color_maps.CoolWarm, color_range=[0.0, 1.0])\n",
    "\n",
    "# Lists of strings - color_maps names\n",
    "basic_color_maps = [attr for attr in dir(k3d.basic_color_maps) if not attr.startswith('__')]\n",
    "paraview_color_maps = [attr for attr in dir(k3d.paraview_color_maps) if not attr.startswith('__')]\n",
    "matplotlib_color_maps = [attr for attr in dir(k3d.matplotlib_color_maps) if not attr.startswith('__')]\n",
    "\n",
    "# Widgets interacting with mesh object\n",
    "@interact(x=widgets.Dropdown(options=basic_color_maps, value=basic_color_maps[0], description='Basic ColorMap:'))\n",
    "def g(x):\n",
    "    mesh.color_map = getattr(k3d.basic_color_maps, x)\n",
    "\n",
    "@interact(x=widgets.Dropdown(options=paraview_color_maps, value=paraview_color_maps[0], description='ParaView ColorMap:'))\n",
    "def g(x):\n",
    "    mesh.color_map = getattr(k3d.paraview_color_maps, x)\n",
    "    \n",
    "@interact(x=widgets.Dropdown(options=matplotlib_color_maps, value=matplotlib_color_maps[0], description='MatplolLib ColorMap:'))\n",
    "def g(x):\n",
    "    mesh.color_map = getattr(k3d.matplotlib_color_maps, x)\n",
    "\n",
    "\n",
    "plot = k3d.plot()\n",
    "plot += mesh\n",
    "\n",
    "plot.display()"
   ]
  },
  {
   "cell_type": "code",
   "execution_count": 2,
   "metadata": {},
   "outputs": [],
   "source": [
    "# Show vertex numbers\n",
    "for index, vertex_position in enumerate(vertices):\n",
    "    plot += k3d.text(text=str(index), position=vertex_position, color=0, reference_point='cc')"
   ]
  },
  {
   "cell_type": "code",
   "execution_count": null,
   "metadata": {},
   "outputs": [],
   "source": []
  },
  {
   "cell_type": "code",
   "execution_count": null,
   "metadata": {},
   "outputs": [],
   "source": []
  }
 ],
 "metadata": {
  "kernelspec": {
   "display_name": "Python 3",
   "language": "python",
   "name": "python3"
  },
  "language_info": {
   "codemirror_mode": {
    "name": "ipython",
    "version": 3
   },
   "file_extension": ".py",
   "mimetype": "text/x-python",
   "name": "python",
   "nbconvert_exporter": "python",
   "pygments_lexer": "ipython3",
   "version": "3.6.6"
  }
 },
 "nbformat": 4,
 "nbformat_minor": 2
}
