{
 "cells": [
  {
   "cell_type": "code",
   "execution_count": 118,
   "metadata": {},
   "outputs": [],
   "source": [
    "import numpy as np\n",
    "import k3d\n",
    "from tqdm import tqdm"
   ]
  },
  {
   "cell_type": "code",
   "execution_count": 119,
   "metadata": {},
   "outputs": [],
   "source": [
    "def sphere(N, radius=1, origin=[0,0,0]):\n",
    "    if np.shape(origin) != (3,):\n",
    "        raise ValueError('Origin should be list of 3 elements')\n",
    "    origin = np.float32(origin)\n",
    "    \n",
    "    u = np.linspace(0, 2 * np.pi, N, dtype=np.float32)\n",
    "    v = np.linspace(0, np.pi, N, dtype=np.float32)\n",
    "    x = radius * np.outer(np.cos(u), np.sin(v))\n",
    "    y = radius * np.outer(np.sin(u), np.sin(v))\n",
    "    z = radius * np.outer(np.ones(np.size(u)), np.cos(v)).astype(np.float32)\n",
    "    x, y, z = np.ravel(x), np.ravel(y), np.ravel(z) \n",
    "    xyz = np.vstack([x,y,z]).T + origin\n",
    "    \n",
    "    points = k3d.points(positions=xyz, point_size=radius/50)\n",
    "    return points\n",
    "\n",
    "def circle(N, radius=1, origin=[0,0,0]):\n",
    "    if np.shape(origin) != (3,):\n",
    "        raise ValueError('Origin should be list of 3 elements')\n",
    "    origin = np.float32(origin)\n",
    "    \n",
    "    circle = []\n",
    "    for i in range(N):\n",
    "        circle.append([radius*np.cos(2*np.pi*i/N), radius*np.sin(2*np.pi*i/N),0])\n",
    "    circle = np.array(circle) + origin\n",
    "    points = k3d.points(positions=np.float32(circle), point_size=radius/50)\n",
    "    return points\n",
    "    \n",
    "\n",
    "def E(q, r0, x, y, z):\n",
    "    \"\"\"Return the electric field vector E=(Ex,Ey,Ez) due to charge q at r0.\"\"\"\n",
    "    den = np.hypot(x-r0[0], y-r0[1], z-r0[2])**3\n",
    "    return q * (x - r0[0]) / den, q * (y - r0[1]) / den, q * (z - r0[2]) / den"
   ]
  },
  {
   "cell_type": "code",
   "execution_count": 120,
   "metadata": {},
   "outputs": [],
   "source": [
    "charge_color = {1:0xff0000, -1:0x0000ff}\n",
    "charge_color_inv = {0xff0000:1, 0x0000ff:-1}\n",
    "charges = [(-1, (0.5, -0.5, 0)), (1, (-0.5, -0.5, 0)), (1, (0.5, 0.5, 0)), (-1, (-0.5, 0.5, 0)) ]    "
   ]
  },
  {
   "cell_type": "code",
   "execution_count": 121,
   "metadata": {},
   "outputs": [],
   "source": [
    "plot = k3d.plot(grid_auto_fit=False, camera_auto_fit=False)\n",
    "charges_k3d = []\n",
    "\n",
    "# Add charges to plot\n",
    "for i in range(len(charges)):\n",
    "    charges_k3d.append(k3d.points(charges[i][1], color=charge_color[charges[i][0]], point_size=0.1))\n",
    "    plot += charges_k3d[i]"
   ]
  },
  {
   "cell_type": "code",
   "execution_count": 122,
   "metadata": {},
   "outputs": [],
   "source": [
    "# Add vector field to plot\n",
    "nx, ny, nz = 20, 20, 1\n",
    "x = np.linspace(-2.0, 2.0, nx, dtype=np.float32)\n",
    "y = np.linspace(-2.0, 2.0, ny, dtype=np.float32)\n",
    "z = np.linspace(0.0, 2.0, nz, dtype=np.float32)\n",
    "X, Y, Z = np.meshgrid(x, y, z)\n",
    "Ex, Ey, Ez = np.zeros((ny, nx, nz)), np.zeros((ny, nx, nz)), np.zeros((ny, nx, nz))\n",
    "for charge in charges:\n",
    "    ex, ey, ez = E(*charge, x=X, y=Y, z=Z)\n",
    "    Ex += ex\n",
    "    Ey += ey\n",
    "    Ez += ez\n",
    "\n",
    "Ex, Ey, Ez = np.ravel(Ex), np.ravel(Ey), np.ravel(Ez)\n",
    "efield = np.stack([Ex, Ey, Ez]).T \n",
    "efield = np.float32(efield / np.stack([np.linalg.norm(efield, axis=1)]).T)/6\n",
    "X, Y, Z = np.ravel(X), np.ravel(Y), np.ravel(Z)\n",
    "\n",
    "electric_field  = k3d.vectors(np.stack([X, Y, Z]).T, efield, head_size=0.5)\n",
    "plot += electric_field"
   ]
  },
  {
   "cell_type": "code",
   "execution_count": 123,
   "metadata": {},
   "outputs": [],
   "source": [
    "# Create list of k3d objects\n",
    "test_charges = []\n",
    "for charge in charges_k3d:\n",
    "    #test_charges.append(sphere(7, radius=0.25, origin=charge.positions))\n",
    "    test_charges.append(circle(66, radius=0.25, origin=charge.positions))"
   ]
  },
  {
   "cell_type": "code",
   "execution_count": 124,
   "metadata": {},
   "outputs": [],
   "source": [
    "# Show objects on plot\n",
    "for test_charges_sphere in test_charges:\n",
    "    plot += test_charges_sphere"
   ]
  },
  {
   "cell_type": "code",
   "execution_count": 125,
   "metadata": {},
   "outputs": [],
   "source": [
    "# Create empty containers for field force lines\n",
    "trajectories = []\n",
    "for index, test_charge in enumerate(test_charges):\n",
    "    trajectories.append([])\n",
    "    for i in range(len(test_charge.positions)):\n",
    "        trajectories[index].append([])"
   ]
  },
  {
   "cell_type": "code",
   "execution_count": 126,
   "metadata": {},
   "outputs": [
    {
     "name": "stderr",
     "output_type": "stream",
     "text": [
      "100%|██████████| 300/300 [00:03<00:00, 98.97it/s] \n"
     ]
    }
   ],
   "source": [
    "# Simulation \n",
    "for t in tqdm(range(300)):\n",
    "    \n",
    "    # Create empty containers for electric field components in test charges places\n",
    "    test_charges_efield = []\n",
    "    for test_charge in test_charges:\n",
    "        N_test_charges = len(test_charge.positions)\n",
    "        test_charges_efield.append([np.zeros(N_test_charges), np.zeros(N_test_charges), np.zeros(N_test_charges)])\n",
    "\n",
    "    # Calculate electric field for each bundle of test charges from each charge\n",
    "    for charge in charges:\n",
    "        for index in range(len(charges)):\n",
    "            X1, Y1, Z1 = test_charges[index].positions[:,0], test_charges[index].positions[:,1], test_charges[index].positions[:,2]\n",
    "            X1, Y1, Z1 = X1+np.finfo(np.float32).eps, Y1+np.finfo(np.float32).eps, Z1+np.finfo(np.float32).eps \n",
    "            ex, ey, ez = E(*charge, x=X1, y=Y1, z=Z1)\n",
    "            test_charges_efield[index][0] += ex\n",
    "            test_charges_efield[index][1] += ey\n",
    "            test_charges_efield[index][2] += ez\n",
    "        \n",
    "    dt = np.float32(t/10000)\n",
    "    \n",
    "    # Move test charges \n",
    "    for i in range(len(test_charges_efield)):\n",
    "        ET = np.float32(np.vstack(test_charges_efield[i]).T)\n",
    "        q = charges[i][0]\n",
    "        test_charges[i].positions = test_charges[i].positions + q*ET*dt\n",
    "\n",
    "        for j in range(len(trajectories[i])):\n",
    "            trajectories[i][j].append(test_charges[i].positions[j])"
   ]
  },
  {
   "cell_type": "code",
   "execution_count": 127,
   "metadata": {},
   "outputs": [],
   "source": [
    "for i in range(np.shape(trajectories)[0]):\n",
    "    for j in range(np.shape(trajectories)[1]):\n",
    "        trajectories[i][j] = np.array(trajectories[i][j])"
   ]
  },
  {
   "cell_type": "code",
   "execution_count": 128,
   "metadata": {},
   "outputs": [],
   "source": [
    "# Cutting field force lines to box of dimensions\n",
    "xmax, ymax, zmax =  2.0, 2.0, 2.0\n",
    "xmin, ymin, zmin = -2.0, -2.0, -2.0\n",
    "for i in range(np.shape(trajectories)[0]):\n",
    "    for j in range(np.shape(trajectories)[1]):\n",
    "        cond1 = (np.sum(trajectories[i][j] < np.array([xmax, ymax, zmax]), axis=1)//3).astype(np.bool)\n",
    "        cond2 = (np.sum(trajectories[i][j] > np.array([xmin, ymin, zmin]), axis=1)//3).astype(np.bool)\n",
    "        square_cond = cond1 & cond2\n",
    "        try:\n",
    "            border = np.where(square_cond == False)[0][0]\n",
    "        except IndexError:\n",
    "            border = None\n",
    "        trajectories[i][j] = trajectories[i][j][:border]"
   ]
  },
  {
   "cell_type": "code",
   "execution_count": 129,
   "metadata": {},
   "outputs": [],
   "source": [
    "# Cutting field force lines in the surroundings of charges () \n",
    "radius = 0.25\n",
    "for i in range(np.shape(trajectories)[0]):\n",
    "    for j in range(np.shape(trajectories)[0]):\n",
    "        if j==i:\n",
    "            continue\n",
    "        for k in range(np.shape(trajectories[i])[0]):\n",
    "            neg_area_cond = np.sqrt(np.sum((trajectories[i][k] - charges_k3d[j].positions)**2, axis=1)) > radius\n",
    "            try:\n",
    "                border = np.where(neg_area_cond == False)[0][0]\n",
    "            except IndexError:\n",
    "                border = None\n",
    "            trajectories[i][k] = trajectories[i][k][:border]"
   ]
  },
  {
   "cell_type": "code",
   "execution_count": 130,
   "metadata": {},
   "outputs": [
    {
     "name": "stderr",
     "output_type": "stream",
     "text": [
      "100%|██████████| 4/4 [00:03<00:00,  1.12it/s]\n"
     ]
    }
   ],
   "source": [
    "# Adding field force lines to plot\n",
    "for i in tqdm(range(len(trajectories))):\n",
    "    for j in range(len(trajectories[0])):\n",
    "        plot += k3d.line(trajectories[i][j], shader='simple', color=0)"
   ]
  },
  {
   "cell_type": "code",
   "execution_count": 131,
   "metadata": {},
   "outputs": [
    {
     "data": {
      "application/vnd.jupyter.widget-view+json": {
       "model_id": "1a967cacf93f479c9fbb93d841b39c5f",
       "version_major": 2,
       "version_minor": 0
      },
      "text/plain": [
       "Output()"
      ]
     },
     "metadata": {},
     "output_type": "display_data"
    }
   ],
   "source": [
    "plot.display()"
   ]
  },
  {
   "cell_type": "code",
   "execution_count": null,
   "metadata": {},
   "outputs": [],
   "source": []
  }
 ],
 "metadata": {
  "kernelspec": {
   "display_name": "Python 3",
   "language": "python",
   "name": "python3"
  },
  "language_info": {
   "codemirror_mode": {
    "name": "ipython",
    "version": 3
   },
   "file_extension": ".py",
   "mimetype": "text/x-python",
   "name": "python",
   "nbconvert_exporter": "python",
   "pygments_lexer": "ipython3",
   "version": "3.6.6"
  }
 },
 "nbformat": 4,
 "nbformat_minor": 2
}
