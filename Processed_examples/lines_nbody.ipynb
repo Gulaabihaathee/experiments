{
 "cells": [
  {
   "cell_type": "markdown",
   "metadata": {},
   "source": [
    "I) $$ force = G \\frac{m_1 m_{2} direction}{|direction|^3} $$\n",
    "\n",
    "II) $$ acceleration = \\frac{force}{mass}$$\n",
    "\n",
    "III) $$ position_{t+1} = position_{t} + \\frac{1}{5} acceleration_{t}$$"
   ]
  },
  {
   "cell_type": "code",
   "execution_count": 1,
   "metadata": {},
   "outputs": [
    {
     "data": {
      "application/vnd.jupyter.widget-view+json": {
       "model_id": "4a5a159f85324e3ab7463f312c65e1c9",
       "version_major": 2,
       "version_minor": 0
      },
      "text/plain": [
       "Output()"
      ]
     },
     "metadata": {},
     "output_type": "display_data"
    }
   ],
   "source": [
    "import numpy as np\n",
    "import k3d\n",
    "\n",
    "\n",
    "# Set the value of bodies\n",
    "bodies_amount = 25\n",
    "\n",
    "# Create 7-dimensional vector for each body, first 3-elements are positions of body, \n",
    "# next 3 are accelerations in direction of motion and the last element is body mass\n",
    "bodies = np.random.random_sample((bodies_amount, 7)).astype(np.float32)\n",
    "\n",
    "# Set the values of bodies positions and accelerations in a half of unit opened ball\n",
    "bodies[:, 0:6] -= 0.5\n",
    "\n",
    "# Decrease the values of acceleration by factor of five hundredth\n",
    "bodies[:, 3:6] *= 0.05\n",
    "\n",
    "# Increase the masses by adding zero point five and multiplying the sum by one thousand\n",
    "bodies[:,6] = (bodies[:,6] + 0.5) * 1000\n",
    "\n",
    "# Set positions of the first body in the center of coordinate system\n",
    "# Deprive first body acceleration and raise the mass to million of units value\n",
    "bodies[0,:] = np.array([0, 0, 0, 0, 0, 0, 1e6])\n",
    "\n",
    "# Normalize the values of bodies positions to set them on a half of unit closed sphere\n",
    "bodies[1:, 0:3] = bodies[1:, 0:3] / np.linalg.norm(bodies[1:, 0:3], axis=1).reshape(1, bodies_amount-1).T * 0.5\n",
    "\n",
    "plot = k3d.plot(antialias=True, camera_auto_fit = False, grid_auto_fit = False)\n",
    "points = k3d.points(bodies[:, 0:3], color=0, point_size=0.05)\n",
    "plot += points\n",
    "\n",
    "plot.display()"
   ]
  },
  {
   "cell_type": "code",
   "execution_count": 2,
   "metadata": {},
   "outputs": [],
   "source": [
    "# Set the gravitational constant\n",
    "G = 6.67E-11\n",
    "\n",
    "# Create accumulators for trace lines and speeds \n",
    "lines = []\n",
    "speeds = []\n",
    "# of each body\n",
    "for body_index in range(bodies_amount):\n",
    "    lines.append([])\n",
    "    speeds.append([])\n",
    "\n",
    "for time_step in range(500):    \n",
    "    for first_body_index in range(bodies_amount):\n",
    "        resultant_force = np.zeros(3)\n",
    "        \n",
    "        for second_body_index in range(bodies_amount):\n",
    "            # Ignore force calculation for the system of two of the same bodies\n",
    "            if first_body_index == second_body_index:\n",
    "                continue\n",
    "            \n",
    "            # Calculate the vector connecting initial point in space of first body with terminal point of second  \n",
    "            direction = bodies[second_body_index, 0:3] - bodies[first_body_index, 0:3]\n",
    "            # Calculate force between two bodies from formula I\n",
    "            force = G * bodies[first_body_index, 6] * bodies[second_body_index, 6] * direction\n",
    "            force = force / (np.linalg.norm(direction) ** 3)\n",
    "            # Calculate the sum of forces acting on a first body \n",
    "            resultant_force += force\n",
    "        \n",
    "        # Recalculate accelerations of bodies II\n",
    "        bodies[first_body_index, 3:6] = bodies[first_body_index, 3:6] + resultant_force / bodies[first_body_index, 6]\n",
    "    \n",
    "    for body_index in range(bodies_amount):\n",
    "        \n",
    "        # Recalculate positions from formula III\n",
    "        bodies[body_index, 0:3] = bodies[body_index, 0:3] + bodies[body_index, 3:6] * 0.2\n",
    "        \n",
    "        # Append trace lines and the norm of acceleration vector of body in point of space \n",
    "        lines[body_index].append(np.copy(bodies[body_index, 0:3]))\n",
    "        speeds[body_index].append(np.linalg.norm(bodies[body_index, 3:6]))\n",
    "    \n",
    "    # Change the positions of point on k3d plot\n",
    "    points.positions = np.copy(bodies[:, 0:3])"
   ]
  },
  {
   "cell_type": "code",
   "execution_count": 3,
   "metadata": {},
   "outputs": [],
   "source": [
    "# Draw color trace lines of bodies motion\n",
    "for line, speed in zip(lines, speeds):\n",
    "    plot += k3d.line(np.array(line), attribute=speed, shader=\"mesh\", width=0.0025, \n",
    "                     color_range=[0,0.1], color_map=k3d.basic_color_maps.Jet)    "
   ]
  },
  {
   "cell_type": "code",
   "execution_count": null,
   "metadata": {},
   "outputs": [],
   "source": []
  }
 ],
 "metadata": {
  "kernelspec": {
   "display_name": "Python 3",
   "language": "python",
   "name": "python3"
  },
  "language_info": {
   "codemirror_mode": {
    "name": "ipython",
    "version": 3
   },
   "file_extension": ".py",
   "mimetype": "text/x-python",
   "name": "python",
   "nbconvert_exporter": "python",
   "pygments_lexer": "ipython3",
   "version": "3.6.6"
  }
 },
 "nbformat": 4,
 "nbformat_minor": 2
}
