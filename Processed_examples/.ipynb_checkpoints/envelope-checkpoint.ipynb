{
 "cells": [
  {
   "cell_type": "code",
   "execution_count": 1,
   "metadata": {},
   "outputs": [
    {
     "data": {
      "application/vnd.jupyter.widget-view+json": {
       "model_id": "cfec62038528420fbb57fc56c192ef95",
       "version_major": 2,
       "version_minor": 0
      },
      "text/plain": [
       "Output()"
      ]
     },
     "metadata": {},
     "output_type": "display_data"
    }
   ],
   "source": [
    "import k3d\n",
    "\n",
    "\n",
    "vertices = [[-10.0, -15.0, 0.0], [-10.0, 5.0, 0.0], [10.0, 5.0, 0.0], [-10.0, -15.0, 0.0],\n",
    "            [10.0, -15.0, 0.0], [-10.0, 5.0, 0.0], [0.0,  15.0, 0.0], [10.0,   5.0, 0.0],\n",
    "            [10.0, -15.0, 0.0]]\n",
    "colors = [0xff, 0xffff, 0xff00ff, 0x00ffff, 0xffff00, 0xff00, 0xff0000, 0xff00ff, 0xffffff]\n",
    "\n",
    "plot = k3d.plot(antialias=True)\n",
    "\n",
    "line = k3d.line(vertices, colors=colors, width=0.5, shader=\"mesh\", radial_segments=5)\n",
    "plot += line\n",
    "\n",
    "plot.display()"
   ]
  },
  {
   "cell_type": "code",
   "execution_count": null,
   "metadata": {},
   "outputs": [],
   "source": []
  }
 ],
 "metadata": {
  "kernelspec": {
   "display_name": "Python 3",
   "language": "python",
   "name": "python3"
  },
  "language_info": {
   "codemirror_mode": {
    "name": "ipython",
    "version": 3
   },
   "file_extension": ".py",
   "mimetype": "text/x-python",
   "name": "python",
   "nbconvert_exporter": "python",
   "pygments_lexer": "ipython3",
   "version": "3.6.6"
  }
 },
 "nbformat": 4,
 "nbformat_minor": 2
}
