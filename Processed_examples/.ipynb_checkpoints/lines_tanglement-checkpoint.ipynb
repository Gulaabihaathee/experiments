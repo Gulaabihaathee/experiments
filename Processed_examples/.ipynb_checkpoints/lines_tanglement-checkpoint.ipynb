{
 "cells": [
  {
   "cell_type": "code",
   "execution_count": 4,
   "metadata": {},
   "outputs": [
    {
     "data": {
      "application/vnd.jupyter.widget-view+json": {
       "model_id": "bbeef5b86235437e9a9c5a765429bcd8",
       "version_major": 2,
       "version_minor": 0
      },
      "text/plain": [
       "Output()"
      ]
     },
     "metadata": {},
     "output_type": "display_data"
    }
   ],
   "source": [
    "import numpy as np\n",
    "import k3d\n",
    "\n",
    "\n",
    "lines = []\n",
    "\n",
    "fi = np.arange(0.0, 2*np.pi, 0.01)\n",
    "vertices = np.transpose([fi]) * np.array([4, 7, 3])\n",
    "x = np.sin(np.transpose([vertices[:,0]]) + np.arange(10))\n",
    "y = np.cos(np.transpose([vertices[:,1]]) + np.arange(10))\n",
    "z = np.cos(vertices[:,2]) + 1.5 * fi\n",
    "s = np.sin(np.transpose([fi]) * np.arange(10))\n",
    "\n",
    "plot = k3d.plot(antialias=True)\n",
    "for i in range(10):\n",
    "    vertices = np.array([x[:,i], y[:,i], z]).astype(np.float32).T\n",
    "    lines.append(k3d.line(vertices , attribute=s[:,i], color_range=[-1,1], \n",
    "                          color_map=k3d.basic_color_maps.Jet, width=0.03))\n",
    "    plot += lines[i]\n",
    "    \n",
    "plot.display()"
   ]
  },
  {
   "cell_type": "code",
   "execution_count": 5,
   "metadata": {},
   "outputs": [],
   "source": [
    "plot.grid_auto_fit = False\n",
    "\n",
    "for line in lines:\n",
    "    line.shader = \"mesh\"\n",
    "    line.width = 0.05"
   ]
  },
  {
   "cell_type": "code",
   "execution_count": 6,
   "metadata": {},
   "outputs": [],
   "source": [
    "for line in lines:\n",
    "    line.shader = \"thick\"\n",
    "    line.width = 0.05"
   ]
  },
  {
   "cell_type": "code",
   "execution_count": null,
   "metadata": {},
   "outputs": [],
   "source": []
  }
 ],
 "metadata": {
  "kernelspec": {
   "display_name": "Python 3",
   "language": "python",
   "name": "python3"
  },
  "language_info": {
   "codemirror_mode": {
    "name": "ipython",
    "version": 3
   },
   "file_extension": ".py",
   "mimetype": "text/x-python",
   "name": "python",
   "nbconvert_exporter": "python",
   "pygments_lexer": "ipython3",
   "version": "3.6.6"
  }
 },
 "nbformat": 4,
 "nbformat_minor": 2
}
