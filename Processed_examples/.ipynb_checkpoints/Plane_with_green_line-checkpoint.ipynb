{
 "cells": [
  {
   "cell_type": "markdown",
   "metadata": {},
   "source": [
    "http://sagecell.sagemath.org/?q=pcefhm"
   ]
  },
  {
   "cell_type": "code",
   "execution_count": 1,
   "metadata": {},
   "outputs": [
    {
     "data": {
      "application/vnd.jupyter.widget-view+json": {
       "model_id": "cbbec0461f7a44e38ce15ccbb44a244b",
       "version_major": 2,
       "version_minor": 0
      },
      "text/plain": [
       "Output()"
      ]
     },
     "metadata": {},
     "output_type": "display_data"
    }
   ],
   "source": [
    "import numpy as np\n",
    "import k3d\n",
    "\n",
    "\n",
    "def p(x, b, c):\n",
    "    return -x**3+c*x+b \n",
    "\n",
    "x = np.linspace(-1,1,100, dtype=np.float32)\n",
    "\n",
    "plot = k3d.plot()\n",
    "green_line = k3d.line(np.stack([3*x**2, x, -2*x**3]).T, shader='mesh', color=0x00ff00, width=0.03)\n",
    "\n",
    "\n",
    "b = np.linspace(-2, 2, 100, dtype=np.float32)\n",
    "c = np.linspace(-2, 2, 100, dtype=np.float32)\n",
    "x = np.linspace(-2, 2, 100, dtype=np.float32)\n",
    "x, b, c = np.meshgrid(x, b, c)\n",
    "\n",
    "plane = k3d.marching_cubes(p(x, b, c), level=0.0, scaling=[4,4,4])\n",
    "plot += plane + green_line\n",
    "\n",
    "plot.display()"
   ]
  },
  {
   "cell_type": "code",
   "execution_count": null,
   "metadata": {},
   "outputs": [],
   "source": []
  }
 ],
 "metadata": {
  "kernelspec": {
   "display_name": "Python 3",
   "language": "python",
   "name": "python3"
  },
  "language_info": {
   "codemirror_mode": {
    "name": "ipython",
    "version": 3
   },
   "file_extension": ".py",
   "mimetype": "text/x-python",
   "name": "python",
   "nbconvert_exporter": "python",
   "pygments_lexer": "ipython3",
   "version": "3.6.6"
  }
 },
 "nbformat": 4,
 "nbformat_minor": 2
}
