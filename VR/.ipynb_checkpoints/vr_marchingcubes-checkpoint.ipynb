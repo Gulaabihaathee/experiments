{
 "cells": [
  {
   "cell_type": "code",
   "execution_count": 1,
   "metadata": {},
   "outputs": [],
   "source": [
    "# x,y,z dtypes change resulted with no red alerts\n",
    "# setting the camera_auto_fit attribute in plot object constructor\n",
    "# variables layout corrected\n",
    "# formula of p wrapped in function\n",
    "# unused libraries erased from code"
   ]
  },
  {
   "cell_type": "code",
   "execution_count": 1,
   "metadata": {},
   "outputs": [
    {
     "data": {
      "application/vnd.jupyter.widget-view+json": {
       "model_id": "72deaed7b91a4fc38b5a25a5e4c22743",
       "version_major": 2,
       "version_minor": 0
      },
      "text/plain": [
       "Output()"
      ]
     },
     "metadata": {},
     "output_type": "display_data"
    }
   ],
   "source": [
    "import k3d\n",
    "import numpy as np\n",
    "\n",
    "def p(x, y, z, T):\n",
    "    return  2 - (np.cos(x + T*y) + np.cos(x - T*y) + np.cos(y + T*z) + np.cos(y - T*z) \n",
    "                 + np.cos(z - T*x) + np.cos(z + T*x))\n",
    "\n",
    "T = 1.618033988749895\n",
    "r = 4.77\n",
    "Nx, Ny, Nz = 77, 77, 77\n",
    "xmin, ymin, zmin = -r, -r, -r\n",
    "xmax, ymax, zmax = r, r, r\n",
    "\n",
    "x = np.linspace(xmin, xmax, Nx, dtype=np.float32)\n",
    "y = np.linspace(ymin, ymax, Ny, dtype=np.float32)\n",
    "z = np.linspace(zmin, zmax, Nz, dtype=np.float32)\n",
    "x, y, z = np.meshgrid(x, y, z, indexing='ij')\n",
    "\n",
    "plot = k3d.plot(camera_auto_fit = False)\n",
    "iso = k3d.marching_cubes(p(x, y, z, T), level=0.0)\n",
    "plot += iso\n",
    "plot.display()"
   ]
  },
  {
   "cell_type": "code",
   "execution_count": 2,
   "metadata": {},
   "outputs": [],
   "source": [
    "plt_vol = k3d.volume(iso.scalar_field, color_range=[-0.5, 0.5],\n",
    "                     color_map=np.array(k3d.basic_color_maps.Jet, dtype=np.float32))"
   ]
  },
  {
   "cell_type": "code",
   "execution_count": 3,
   "metadata": {},
   "outputs": [],
   "source": [
    "plot += plt_vol"
   ]
  },
  {
   "cell_type": "code",
   "execution_count": 4,
   "metadata": {
    "scrolled": true
   },
   "outputs": [],
   "source": [
    "p1 = p(x, y, z, T)\n",
    "p1[:,:,:45] = 2\n",
    "plt_vol.volume = p1.copy()"
   ]
  },
  {
   "cell_type": "code",
   "execution_count": 6,
   "metadata": {},
   "outputs": [],
   "source": []
  },
  {
   "cell_type": "code",
   "execution_count": null,
   "metadata": {},
   "outputs": [],
   "source": []
  }
 ],
 "metadata": {
  "kernelspec": {
   "display_name": "Python 3",
   "language": "python",
   "name": "python3"
  },
  "language_info": {
   "codemirror_mode": {
    "name": "ipython",
    "version": 3
   },
   "file_extension": ".py",
   "mimetype": "text/x-python",
   "name": "python",
   "nbconvert_exporter": "python",
   "pygments_lexer": "ipython3",
   "version": "3.6.6"
  }
 },
 "nbformat": 4,
 "nbformat_minor": 2
}
